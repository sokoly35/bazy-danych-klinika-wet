{
 "cells": [
  {
   "cell_type": "code",
   "execution_count": 1,
   "metadata": {
    "executionInfo": {
     "elapsed": 955,
     "status": "ok",
     "timestamp": 1624179811057,
     "user": {
      "displayName": "Rafał Sokołowski",
      "photoUrl": "",
      "userId": "01451606405973523983"
     },
     "user_tz": -120
    },
    "id": "iL_kltlTpRhc"
   },
   "outputs": [],
   "source": [
    "import pandas as pd\n",
    "import numpy as np"
   ]
  },
  {
   "cell_type": "code",
   "execution_count": 2,
   "metadata": {
    "executionInfo": {
     "elapsed": 6,
     "status": "ok",
     "timestamp": 1624179811058,
     "user": {
      "displayName": "Rafał Sokołowski",
      "photoUrl": "",
      "userId": "01451606405973523983"
     },
     "user_tz": -120
    },
    "id": "7hGhGE2cpRhf"
   },
   "outputs": [],
   "source": [
    "np.random.seed(42)"
   ]
  },
  {
   "cell_type": "markdown",
   "metadata": {
    "id": "kSlxGVTopRhg"
   },
   "source": [
    "### Zwierzęta"
   ]
  },
  {
   "cell_type": "markdown",
   "metadata": {
    "id": "Ud30QzB8pRhg"
   },
   "source": [
    "#### Imiona samiczki, imiona samczyki"
   ]
  },
  {
   "cell_type": "code",
   "execution_count": 3,
   "metadata": {
    "colab": {
     "base_uri": "https://localhost:8080/",
     "height": 320
    },
    "executionInfo": {
     "elapsed": 6,
     "status": "error",
     "timestamp": 1624179811058,
     "user": {
      "displayName": "Rafał Sokołowski",
      "photoUrl": "",
      "userId": "01451606405973523983"
     },
     "user_tz": -120
    },
    "id": "LfrpdvONpRhh",
    "outputId": "6dfd562b-be63-48a6-eb3b-2a8f30f71d45"
   },
   "outputs": [],
   "source": [
    "imiona_zwierzat = pd.read_csv('dane do tabeli\\imiona zwierzat.csv')"
   ]
  },
  {
   "cell_type": "code",
   "execution_count": 4,
   "metadata": {
    "executionInfo": {
     "elapsed": 4,
     "status": "aborted",
     "timestamp": 1624179811880,
     "user": {
      "displayName": "Rafał Sokołowski",
      "photoUrl": "",
      "userId": "01451606405973523983"
     },
     "user_tz": -120
    },
    "id": "6tiQq_papRhk"
   },
   "outputs": [
    {
     "data": {
      "text/plain": [
       "(449, 751)"
      ]
     },
     "execution_count": 4,
     "metadata": {},
     "output_type": "execute_result"
    }
   ],
   "source": [
    "liczba_m = np.random.rand(1)[0]\n",
    "liczba_m = np.round(liczba_m*1200)\n",
    "liczba_m = int(liczba_m)\n",
    "liczba_k = 1200-liczba_m\n",
    "liczba_m, liczba_k"
   ]
  },
  {
   "cell_type": "code",
   "execution_count": 5,
   "metadata": {
    "executionInfo": {
     "elapsed": 5,
     "status": "aborted",
     "timestamp": 1624179811881,
     "user": {
      "displayName": "Rafał Sokołowski",
      "photoUrl": "",
      "userId": "01451606405973523983"
     },
     "user_tz": -120
    },
    "id": "J6qjz6AlpRhk"
   },
   "outputs": [],
   "source": [
    "# tabele tylko z imionami damskimi i tylko z imionami męskimi\n",
    "imiona_damskie = imiona_zwierzat.iloc[:632, 1]\n",
    "imiona_meskie = imiona_zwierzat.iloc[632:, 1]"
   ]
  },
  {
   "cell_type": "code",
   "execution_count": 6,
   "metadata": {
    "executionInfo": {
     "elapsed": 6,
     "status": "aborted",
     "timestamp": 1624179811882,
     "user": {
      "displayName": "Rafał Sokołowski",
      "photoUrl": "",
      "userId": "01451606405973523983"
     },
     "user_tz": -120
    },
    "id": "eoIc_jGOpRhl"
   },
   "outputs": [
    {
     "data": {
      "text/html": [
       "<div>\n",
       "<style scoped>\n",
       "    .dataframe tbody tr th:only-of-type {\n",
       "        vertical-align: middle;\n",
       "    }\n",
       "\n",
       "    .dataframe tbody tr th {\n",
       "        vertical-align: top;\n",
       "    }\n",
       "\n",
       "    .dataframe thead th {\n",
       "        text-align: right;\n",
       "    }\n",
       "</style>\n",
       "<table border=\"1\" class=\"dataframe\">\n",
       "  <thead>\n",
       "    <tr style=\"text-align: right;\">\n",
       "      <th></th>\n",
       "      <th>index</th>\n",
       "      <th>imię</th>\n",
       "      <th>płeć</th>\n",
       "    </tr>\n",
       "  </thead>\n",
       "  <tbody>\n",
       "    <tr>\n",
       "      <th>0</th>\n",
       "      <td>338</td>\n",
       "      <td>Lili</td>\n",
       "      <td>K</td>\n",
       "    </tr>\n",
       "    <tr>\n",
       "      <th>1</th>\n",
       "      <td>176</td>\n",
       "      <td>Fifka</td>\n",
       "      <td>K</td>\n",
       "    </tr>\n",
       "    <tr>\n",
       "      <th>2</th>\n",
       "      <td>74</td>\n",
       "      <td>Borówka</td>\n",
       "      <td>K</td>\n",
       "    </tr>\n",
       "    <tr>\n",
       "      <th>3</th>\n",
       "      <td>528</td>\n",
       "      <td>Roxi</td>\n",
       "      <td>K</td>\n",
       "    </tr>\n",
       "    <tr>\n",
       "      <th>4</th>\n",
       "      <td>153</td>\n",
       "      <td>Dżasti</td>\n",
       "      <td>K</td>\n",
       "    </tr>\n",
       "  </tbody>\n",
       "</table>\n",
       "</div>"
      ],
      "text/plain": [
       "   index     imię płeć\n",
       "0    338     Lili    K\n",
       "1    176    Fifka    K\n",
       "2     74  Borówka    K\n",
       "3    528     Roxi    K\n",
       "4    153   Dżasti    K"
      ]
     },
     "execution_count": 6,
     "metadata": {},
     "output_type": "execute_result"
    }
   ],
   "source": [
    "samiczki = imiona_damskie.sample(liczba_k, replace=True, random_state = 13)\n",
    "samiczki = samiczki.reset_index()\n",
    "samiczki['płeć'] = ['K']*liczba_k\n",
    "samiczki.head()"
   ]
  },
  {
   "cell_type": "code",
   "execution_count": 7,
   "metadata": {
    "colab": {
     "base_uri": "https://localhost:8080/",
     "height": 212
    },
    "executionInfo": {
     "elapsed": 6,
     "status": "error",
     "timestamp": 1624179812507,
     "user": {
      "displayName": "Rafał Sokołowski",
      "photoUrl": "",
      "userId": "01451606405973523983"
     },
     "user_tz": -120
    },
    "id": "SRgCmAlcpRhl",
    "outputId": "af80ebf8-9301-4843-e66b-128a7420e7f9"
   },
   "outputs": [
    {
     "data": {
      "text/html": [
       "<div>\n",
       "<style scoped>\n",
       "    .dataframe tbody tr th:only-of-type {\n",
       "        vertical-align: middle;\n",
       "    }\n",
       "\n",
       "    .dataframe tbody tr th {\n",
       "        vertical-align: top;\n",
       "    }\n",
       "\n",
       "    .dataframe thead th {\n",
       "        text-align: right;\n",
       "    }\n",
       "</style>\n",
       "<table border=\"1\" class=\"dataframe\">\n",
       "  <thead>\n",
       "    <tr style=\"text-align: right;\">\n",
       "      <th></th>\n",
       "      <th>index</th>\n",
       "      <th>imię</th>\n",
       "      <th>płeć</th>\n",
       "    </tr>\n",
       "  </thead>\n",
       "  <tbody>\n",
       "    <tr>\n",
       "      <th>0</th>\n",
       "      <td>970</td>\n",
       "      <td>Gordon</td>\n",
       "      <td>M</td>\n",
       "    </tr>\n",
       "    <tr>\n",
       "      <th>1</th>\n",
       "      <td>808</td>\n",
       "      <td>Clifford</td>\n",
       "      <td>M</td>\n",
       "    </tr>\n",
       "    <tr>\n",
       "      <th>2</th>\n",
       "      <td>706</td>\n",
       "      <td>Bączuś</td>\n",
       "      <td>M</td>\n",
       "    </tr>\n",
       "    <tr>\n",
       "      <th>3</th>\n",
       "      <td>1160</td>\n",
       "      <td>Majszi</td>\n",
       "      <td>M</td>\n",
       "    </tr>\n",
       "    <tr>\n",
       "      <th>4</th>\n",
       "      <td>1374</td>\n",
       "      <td>Scotti</td>\n",
       "      <td>M</td>\n",
       "    </tr>\n",
       "  </tbody>\n",
       "</table>\n",
       "</div>"
      ],
      "text/plain": [
       "   index      imię płeć\n",
       "0    970    Gordon    M\n",
       "1    808  Clifford    M\n",
       "2    706    Bączuś    M\n",
       "3   1160    Majszi    M\n",
       "4   1374    Scotti    M"
      ]
     },
     "execution_count": 7,
     "metadata": {},
     "output_type": "execute_result"
    }
   ],
   "source": [
    "samczyki = imiona_meskie.sample(liczba_m, replace=True, random_state = 13)\n",
    "samczyki = samczyki.reset_index()\n",
    "samczyki['płeć'] = ['M']*liczba_m\n",
    "samczyki.head()"
   ]
  },
  {
   "cell_type": "markdown",
   "metadata": {
    "id": "urRUq8vapRhm"
   },
   "source": [
    "#### Samiczki i samczyki razem: imię i płeć"
   ]
  },
  {
   "cell_type": "code",
   "execution_count": 8,
   "metadata": {
    "executionInfo": {
     "elapsed": 3,
     "status": "aborted",
     "timestamp": 1624179812506,
     "user": {
      "displayName": "Rafał Sokołowski",
      "photoUrl": "",
      "userId": "01451606405973523983"
     },
     "user_tz": -120
    },
    "id": "Vgat3-eopRhm"
   },
   "outputs": [
    {
     "data": {
      "text/html": [
       "<div>\n",
       "<style scoped>\n",
       "    .dataframe tbody tr th:only-of-type {\n",
       "        vertical-align: middle;\n",
       "    }\n",
       "\n",
       "    .dataframe tbody tr th {\n",
       "        vertical-align: top;\n",
       "    }\n",
       "\n",
       "    .dataframe thead th {\n",
       "        text-align: right;\n",
       "    }\n",
       "</style>\n",
       "<table border=\"1\" class=\"dataframe\">\n",
       "  <thead>\n",
       "    <tr style=\"text-align: right;\">\n",
       "      <th></th>\n",
       "      <th>Imię</th>\n",
       "      <th>Płeć</th>\n",
       "    </tr>\n",
       "  </thead>\n",
       "  <tbody>\n",
       "    <tr>\n",
       "      <th>0</th>\n",
       "      <td>Lili</td>\n",
       "      <td>K</td>\n",
       "    </tr>\n",
       "    <tr>\n",
       "      <th>1</th>\n",
       "      <td>Fifka</td>\n",
       "      <td>K</td>\n",
       "    </tr>\n",
       "    <tr>\n",
       "      <th>2</th>\n",
       "      <td>Borówka</td>\n",
       "      <td>K</td>\n",
       "    </tr>\n",
       "    <tr>\n",
       "      <th>3</th>\n",
       "      <td>Roxi</td>\n",
       "      <td>K</td>\n",
       "    </tr>\n",
       "    <tr>\n",
       "      <th>4</th>\n",
       "      <td>Dżasti</td>\n",
       "      <td>K</td>\n",
       "    </tr>\n",
       "    <tr>\n",
       "      <th>...</th>\n",
       "      <td>...</td>\n",
       "      <td>...</td>\n",
       "    </tr>\n",
       "    <tr>\n",
       "      <th>1195</th>\n",
       "      <td>Bajer</td>\n",
       "      <td>M</td>\n",
       "    </tr>\n",
       "    <tr>\n",
       "      <th>1196</th>\n",
       "      <td>Largo</td>\n",
       "      <td>M</td>\n",
       "    </tr>\n",
       "    <tr>\n",
       "      <th>1197</th>\n",
       "      <td>Chrupek</td>\n",
       "      <td>M</td>\n",
       "    </tr>\n",
       "    <tr>\n",
       "      <th>1198</th>\n",
       "      <td>Mafii</td>\n",
       "      <td>M</td>\n",
       "    </tr>\n",
       "    <tr>\n",
       "      <th>1199</th>\n",
       "      <td>Nicko</td>\n",
       "      <td>M</td>\n",
       "    </tr>\n",
       "  </tbody>\n",
       "</table>\n",
       "<p>1200 rows × 2 columns</p>\n",
       "</div>"
      ],
      "text/plain": [
       "         Imię Płeć\n",
       "0        Lili    K\n",
       "1       Fifka    K\n",
       "2     Borówka    K\n",
       "3        Roxi    K\n",
       "4      Dżasti    K\n",
       "...       ...  ...\n",
       "1195    Bajer    M\n",
       "1196    Largo    M\n",
       "1197  Chrupek    M\n",
       "1198    Mafii    M\n",
       "1199    Nicko    M\n",
       "\n",
       "[1200 rows x 2 columns]"
      ]
     },
     "execution_count": 8,
     "metadata": {},
     "output_type": "execute_result"
    }
   ],
   "source": [
    "imię_płeć = pd.concat([samiczki, samczyki])\n",
    "imię_płeć = imię_płeć.reset_index()\n",
    "imię_płeć = imię_płeć.drop(columns = ['level_0','index'])\n",
    "imię_płeć.columns = ['Imię', 'Płeć']\n",
    "imię_płeć"
   ]
  },
  {
   "cell_type": "markdown",
   "metadata": {
    "id": "0K2iZwARpRhm"
   },
   "source": [
    "### Gatunek, rasa"
   ]
  },
  {
   "cell_type": "markdown",
   "metadata": {
    "id": "aJohQJPrpRhn"
   },
   "source": [
    "**DataFrame GATUNKI** - pobrany .xlsx \n",
    "\n",
    "\n",
    "**DataFrame LISTA GATUNKÓW** - wypisany jeden raz każdy gatunek, który występuje w GATUNKACH \n",
    "\n",
    "**DataFrame ZWIERZĘTA** - kolumna \"gatunek\" zawiera wylosowane gatunki zwierząt z określonym prawdopodobieństwem, kolumna \"rasa\" zawiera przypisane do gatunków rasy"
   ]
  },
  {
   "cell_type": "code",
   "execution_count": 9,
   "metadata": {
    "colab": {
     "base_uri": "https://localhost:8080/",
     "height": 337
    },
    "executionInfo": {
     "elapsed": 5,
     "status": "error",
     "timestamp": 1624179813204,
     "user": {
      "displayName": "Rafał Sokołowski",
      "photoUrl": "",
      "userId": "01451606405973523983"
     },
     "user_tz": -120
    },
    "id": "NRI4wo2SpRhn",
    "outputId": "e7d31ad4-4a9b-4f3c-b170-9a187736cacc"
   },
   "outputs": [
    {
     "data": {
      "text/html": [
       "<div>\n",
       "<style scoped>\n",
       "    .dataframe tbody tr th:only-of-type {\n",
       "        vertical-align: middle;\n",
       "    }\n",
       "\n",
       "    .dataframe tbody tr th {\n",
       "        vertical-align: top;\n",
       "    }\n",
       "\n",
       "    .dataframe thead th {\n",
       "        text-align: right;\n",
       "    }\n",
       "</style>\n",
       "<table border=\"1\" class=\"dataframe\">\n",
       "  <thead>\n",
       "    <tr style=\"text-align: right;\">\n",
       "      <th></th>\n",
       "      <th>gatunek</th>\n",
       "      <th>rasa</th>\n",
       "      <th>maksymalna_żywotność</th>\n",
       "    </tr>\n",
       "  </thead>\n",
       "  <tbody>\n",
       "    <tr>\n",
       "      <th>0</th>\n",
       "      <td>pies</td>\n",
       "      <td>akita</td>\n",
       "      <td>12</td>\n",
       "    </tr>\n",
       "    <tr>\n",
       "      <th>1</th>\n",
       "      <td>pies</td>\n",
       "      <td>alaskan</td>\n",
       "      <td>12</td>\n",
       "    </tr>\n",
       "    <tr>\n",
       "      <th>2</th>\n",
       "      <td>pies</td>\n",
       "      <td>basenji</td>\n",
       "      <td>16</td>\n",
       "    </tr>\n",
       "    <tr>\n",
       "      <th>3</th>\n",
       "      <td>pies</td>\n",
       "      <td>beagle</td>\n",
       "      <td>15</td>\n",
       "    </tr>\n",
       "    <tr>\n",
       "      <th>4</th>\n",
       "      <td>pies</td>\n",
       "      <td>bearded collie</td>\n",
       "      <td>17</td>\n",
       "    </tr>\n",
       "  </tbody>\n",
       "</table>\n",
       "</div>"
      ],
      "text/plain": [
       "  gatunek            rasa  maksymalna_żywotność\n",
       "0    pies           akita                    12\n",
       "1    pies         alaskan                    12\n",
       "2    pies         basenji                    16\n",
       "3    pies          beagle                    15\n",
       "4    pies  bearded collie                    17"
      ]
     },
     "execution_count": 9,
     "metadata": {},
     "output_type": "execute_result"
    }
   ],
   "source": [
    "gatunki = pd.read_excel('dane do tabeli/rasy.xlsx')\n",
    "gatunki.head()"
   ]
  },
  {
   "cell_type": "code",
   "execution_count": 10,
   "metadata": {
    "colab": {
     "base_uri": "https://localhost:8080/",
     "height": 178
    },
    "executionInfo": {
     "elapsed": 10,
     "status": "error",
     "timestamp": 1624179813900,
     "user": {
      "displayName": "Rafał Sokołowski",
      "photoUrl": "",
      "userId": "01451606405973523983"
     },
     "user_tz": -120
    },
    "id": "nDgyi8gApRhn",
    "outputId": "71bf5946-dbc9-4cea-88b5-d35d8ca70610"
   },
   "outputs": [],
   "source": [
    "prawdopodobieństwo_wystepowania = gatunki['gatunek'].value_counts(normalize=True).to_frame()\n",
    "prawdopodobieństwo_wystepowania = prawdopodobieństwo_wystepowania.iloc[:,0].values.tolist()"
   ]
  },
  {
   "cell_type": "code",
   "execution_count": 11,
   "metadata": {
    "executionInfo": {
     "elapsed": 5,
     "status": "aborted",
     "timestamp": 1624179813898,
     "user": {
      "displayName": "Rafał Sokołowski",
      "photoUrl": "",
      "userId": "01451606405973523983"
     },
     "user_tz": -120
    },
    "id": "JYZ-7BeBpRho"
   },
   "outputs": [
    {
     "data": {
      "text/html": [
       "<div>\n",
       "<style scoped>\n",
       "    .dataframe tbody tr th:only-of-type {\n",
       "        vertical-align: middle;\n",
       "    }\n",
       "\n",
       "    .dataframe tbody tr th {\n",
       "        vertical-align: top;\n",
       "    }\n",
       "\n",
       "    .dataframe thead th {\n",
       "        text-align: right;\n",
       "    }\n",
       "</style>\n",
       "<table border=\"1\" class=\"dataframe\">\n",
       "  <thead>\n",
       "    <tr style=\"text-align: right;\">\n",
       "      <th></th>\n",
       "      <th>index</th>\n",
       "      <th>gatunek</th>\n",
       "    </tr>\n",
       "  </thead>\n",
       "  <tbody>\n",
       "    <tr>\n",
       "      <th>0</th>\n",
       "      <td>0</td>\n",
       "      <td>pies</td>\n",
       "    </tr>\n",
       "    <tr>\n",
       "      <th>1</th>\n",
       "      <td>69</td>\n",
       "      <td>kot</td>\n",
       "    </tr>\n",
       "    <tr>\n",
       "      <th>2</th>\n",
       "      <td>96</td>\n",
       "      <td>królik</td>\n",
       "    </tr>\n",
       "    <tr>\n",
       "      <th>3</th>\n",
       "      <td>101</td>\n",
       "      <td>świnka morska</td>\n",
       "    </tr>\n",
       "    <tr>\n",
       "      <th>4</th>\n",
       "      <td>104</td>\n",
       "      <td>ptak</td>\n",
       "    </tr>\n",
       "    <tr>\n",
       "      <th>5</th>\n",
       "      <td>109</td>\n",
       "      <td>szynszyla</td>\n",
       "    </tr>\n",
       "    <tr>\n",
       "      <th>6</th>\n",
       "      <td>110</td>\n",
       "      <td>koszatniczka</td>\n",
       "    </tr>\n",
       "    <tr>\n",
       "      <th>7</th>\n",
       "      <td>111</td>\n",
       "      <td>mysz domowa</td>\n",
       "    </tr>\n",
       "    <tr>\n",
       "      <th>8</th>\n",
       "      <td>112</td>\n",
       "      <td>szczur domowy</td>\n",
       "    </tr>\n",
       "    <tr>\n",
       "      <th>9</th>\n",
       "      <td>113</td>\n",
       "      <td>chomik</td>\n",
       "    </tr>\n",
       "    <tr>\n",
       "      <th>10</th>\n",
       "      <td>114</td>\n",
       "      <td>myszoskoczek</td>\n",
       "    </tr>\n",
       "    <tr>\n",
       "      <th>11</th>\n",
       "      <td>115</td>\n",
       "      <td>jeż hodowlany</td>\n",
       "    </tr>\n",
       "  </tbody>\n",
       "</table>\n",
       "</div>"
      ],
      "text/plain": [
       "    index        gatunek\n",
       "0       0           pies\n",
       "1      69            kot\n",
       "2      96         królik\n",
       "3     101  świnka morska\n",
       "4     104           ptak\n",
       "5     109      szynszyla\n",
       "6     110   koszatniczka\n",
       "7     111    mysz domowa\n",
       "8     112  szczur domowy\n",
       "9     113         chomik\n",
       "10    114   myszoskoczek\n",
       "11    115  jeż hodowlany"
      ]
     },
     "execution_count": 11,
     "metadata": {},
     "output_type": "execute_result"
    }
   ],
   "source": [
    "lista_gatunków = gatunki.copy()\n",
    "lista_gatunków = lista_gatunków.drop_duplicates(subset='gatunek', keep='first')\n",
    "lista_gatunków = lista_gatunków.iloc[:,0]\n",
    "lista_gatunków = lista_gatunków.reset_index()\n",
    "# lista_gatunków = lista_gatunków.iloc[:,1].values.tolist()\n",
    "lista_gatunków"
   ]
  },
  {
   "cell_type": "code",
   "execution_count": 12,
   "metadata": {
    "executionInfo": {
     "elapsed": 6,
     "status": "aborted",
     "timestamp": 1624179813899,
     "user": {
      "displayName": "Rafał Sokołowski",
      "photoUrl": "",
      "userId": "01451606405973523983"
     },
     "user_tz": -120
    },
    "id": "wwrzJATupRho"
   },
   "outputs": [],
   "source": [
    "zwierzeta = lista_gatunków.sample(1200, weights=prawdopodobieństwo_wystepowania, replace=True, random_state = 13)"
   ]
  },
  {
   "cell_type": "code",
   "execution_count": 13,
   "metadata": {
    "colab": {
     "base_uri": "https://localhost:8080/",
     "height": 162
    },
    "executionInfo": {
     "elapsed": 9,
     "status": "error",
     "timestamp": 1624179814723,
     "user": {
      "displayName": "Rafał Sokołowski",
      "photoUrl": "",
      "userId": "01451606405973523983"
     },
     "user_tz": -120
    },
    "id": "flX8CItQpRho",
    "outputId": "8e70fa3c-b44c-4bae-b5d3-90a55ceba624"
   },
   "outputs": [],
   "source": [
    "zwierzeta['index'] = np.arange(1,1201,1)"
   ]
  },
  {
   "cell_type": "code",
   "execution_count": 14,
   "metadata": {
    "executionInfo": {
     "elapsed": 6,
     "status": "aborted",
     "timestamp": 1624179814721,
     "user": {
      "displayName": "Rafał Sokołowski",
      "photoUrl": "",
      "userId": "01451606405973523983"
     },
     "user_tz": -120
    },
    "id": "7Ta1GC_npRhp"
   },
   "outputs": [
    {
     "data": {
      "text/html": [
       "<div>\n",
       "<style scoped>\n",
       "    .dataframe tbody tr th:only-of-type {\n",
       "        vertical-align: middle;\n",
       "    }\n",
       "\n",
       "    .dataframe tbody tr th {\n",
       "        vertical-align: top;\n",
       "    }\n",
       "\n",
       "    .dataframe thead th {\n",
       "        text-align: right;\n",
       "    }\n",
       "</style>\n",
       "<table border=\"1\" class=\"dataframe\">\n",
       "  <thead>\n",
       "    <tr style=\"text-align: right;\">\n",
       "      <th></th>\n",
       "      <th>index</th>\n",
       "      <th>gatunek</th>\n",
       "    </tr>\n",
       "  </thead>\n",
       "  <tbody>\n",
       "    <tr>\n",
       "      <th>1</th>\n",
       "      <td>1</td>\n",
       "      <td>kot</td>\n",
       "    </tr>\n",
       "    <tr>\n",
       "      <th>0</th>\n",
       "      <td>2</td>\n",
       "      <td>pies</td>\n",
       "    </tr>\n",
       "    <tr>\n",
       "      <th>1</th>\n",
       "      <td>3</td>\n",
       "      <td>kot</td>\n",
       "    </tr>\n",
       "    <tr>\n",
       "      <th>8</th>\n",
       "      <td>4</td>\n",
       "      <td>szczur domowy</td>\n",
       "    </tr>\n",
       "    <tr>\n",
       "      <th>8</th>\n",
       "      <td>5</td>\n",
       "      <td>szczur domowy</td>\n",
       "    </tr>\n",
       "    <tr>\n",
       "      <th>...</th>\n",
       "      <td>...</td>\n",
       "      <td>...</td>\n",
       "    </tr>\n",
       "    <tr>\n",
       "      <th>0</th>\n",
       "      <td>1196</td>\n",
       "      <td>pies</td>\n",
       "    </tr>\n",
       "    <tr>\n",
       "      <th>0</th>\n",
       "      <td>1197</td>\n",
       "      <td>pies</td>\n",
       "    </tr>\n",
       "    <tr>\n",
       "      <th>5</th>\n",
       "      <td>1198</td>\n",
       "      <td>szynszyla</td>\n",
       "    </tr>\n",
       "    <tr>\n",
       "      <th>1</th>\n",
       "      <td>1199</td>\n",
       "      <td>kot</td>\n",
       "    </tr>\n",
       "    <tr>\n",
       "      <th>1</th>\n",
       "      <td>1200</td>\n",
       "      <td>kot</td>\n",
       "    </tr>\n",
       "  </tbody>\n",
       "</table>\n",
       "<p>1200 rows × 2 columns</p>\n",
       "</div>"
      ],
      "text/plain": [
       "    index        gatunek\n",
       "1       1            kot\n",
       "0       2           pies\n",
       "1       3            kot\n",
       "8       4  szczur domowy\n",
       "8       5  szczur domowy\n",
       "..    ...            ...\n",
       "0    1196           pies\n",
       "0    1197           pies\n",
       "5    1198      szynszyla\n",
       "1    1199            kot\n",
       "1    1200            kot\n",
       "\n",
       "[1200 rows x 2 columns]"
      ]
     },
     "execution_count": 14,
     "metadata": {},
     "output_type": "execute_result"
    }
   ],
   "source": [
    "zwierzeta"
   ]
  },
  {
   "cell_type": "code",
   "execution_count": 15,
   "metadata": {
    "executionInfo": {
     "elapsed": 7,
     "status": "aborted",
     "timestamp": 1624179814722,
     "user": {
      "displayName": "Rafał Sokołowski",
      "photoUrl": "",
      "userId": "01451606405973523983"
     },
     "user_tz": -120
    },
    "id": "Apr3EfnypRhp"
   },
   "outputs": [
    {
     "data": {
      "text/html": [
       "<div>\n",
       "<style scoped>\n",
       "    .dataframe tbody tr th:only-of-type {\n",
       "        vertical-align: middle;\n",
       "    }\n",
       "\n",
       "    .dataframe tbody tr th {\n",
       "        vertical-align: top;\n",
       "    }\n",
       "\n",
       "    .dataframe thead th {\n",
       "        text-align: right;\n",
       "    }\n",
       "</style>\n",
       "<table border=\"1\" class=\"dataframe\">\n",
       "  <thead>\n",
       "    <tr style=\"text-align: right;\">\n",
       "      <th></th>\n",
       "      <th>index</th>\n",
       "      <th>gatunek</th>\n",
       "      <th>rasy</th>\n",
       "    </tr>\n",
       "  </thead>\n",
       "  <tbody>\n",
       "    <tr>\n",
       "      <th>1</th>\n",
       "      <td>1</td>\n",
       "      <td>kot</td>\n",
       "      <td>0</td>\n",
       "    </tr>\n",
       "    <tr>\n",
       "      <th>0</th>\n",
       "      <td>2</td>\n",
       "      <td>pies</td>\n",
       "      <td>0</td>\n",
       "    </tr>\n",
       "    <tr>\n",
       "      <th>1</th>\n",
       "      <td>3</td>\n",
       "      <td>kot</td>\n",
       "      <td>0</td>\n",
       "    </tr>\n",
       "    <tr>\n",
       "      <th>8</th>\n",
       "      <td>4</td>\n",
       "      <td>szczur domowy</td>\n",
       "      <td>0</td>\n",
       "    </tr>\n",
       "    <tr>\n",
       "      <th>8</th>\n",
       "      <td>5</td>\n",
       "      <td>szczur domowy</td>\n",
       "      <td>0</td>\n",
       "    </tr>\n",
       "    <tr>\n",
       "      <th>...</th>\n",
       "      <td>...</td>\n",
       "      <td>...</td>\n",
       "      <td>...</td>\n",
       "    </tr>\n",
       "    <tr>\n",
       "      <th>0</th>\n",
       "      <td>1196</td>\n",
       "      <td>pies</td>\n",
       "      <td>0</td>\n",
       "    </tr>\n",
       "    <tr>\n",
       "      <th>0</th>\n",
       "      <td>1197</td>\n",
       "      <td>pies</td>\n",
       "      <td>0</td>\n",
       "    </tr>\n",
       "    <tr>\n",
       "      <th>5</th>\n",
       "      <td>1198</td>\n",
       "      <td>szynszyla</td>\n",
       "      <td>0</td>\n",
       "    </tr>\n",
       "    <tr>\n",
       "      <th>1</th>\n",
       "      <td>1199</td>\n",
       "      <td>kot</td>\n",
       "      <td>0</td>\n",
       "    </tr>\n",
       "    <tr>\n",
       "      <th>1</th>\n",
       "      <td>1200</td>\n",
       "      <td>kot</td>\n",
       "      <td>0</td>\n",
       "    </tr>\n",
       "  </tbody>\n",
       "</table>\n",
       "<p>1200 rows × 3 columns</p>\n",
       "</div>"
      ],
      "text/plain": [
       "    index        gatunek  rasy\n",
       "1       1            kot     0\n",
       "0       2           pies     0\n",
       "1       3            kot     0\n",
       "8       4  szczur domowy     0\n",
       "8       5  szczur domowy     0\n",
       "..    ...            ...   ...\n",
       "0    1196           pies     0\n",
       "0    1197           pies     0\n",
       "5    1198      szynszyla     0\n",
       "1    1199            kot     0\n",
       "1    1200            kot     0\n",
       "\n",
       "[1200 rows x 3 columns]"
      ]
     },
     "execution_count": 15,
     "metadata": {},
     "output_type": "execute_result"
    }
   ],
   "source": [
    "rasy = [0]*1200\n",
    "zwierzeta['rasy'] = rasy\n",
    "zwierzeta"
   ]
  },
  {
   "cell_type": "code",
   "execution_count": 16,
   "metadata": {
    "colab": {
     "base_uri": "https://localhost:8080/",
     "height": 229
    },
    "executionInfo": {
     "elapsed": 12,
     "status": "error",
     "timestamp": 1624179815469,
     "user": {
      "displayName": "Rafał Sokołowski",
      "photoUrl": "",
      "userId": "01451606405973523983"
     },
     "user_tz": -120
    },
    "id": "Tna4wXXtpRhp",
    "outputId": "ebd051a6-ee63-4609-a78f-150c8d60fd34"
   },
   "outputs": [],
   "source": [
    "pies_rasy = gatunki.loc[gatunki['gatunek'] == 'pies', 'rasa']\n",
    "kot_rasy = gatunki.loc[gatunki['gatunek'] == 'kot', 'rasa']\n",
    "królik_rasy = gatunki.loc[gatunki['gatunek'] == 'królik', 'rasa']\n",
    "świnka_morska_rasy = gatunki.loc[gatunki['gatunek'] == 'świnka morska', 'rasa']\n",
    "ptak_rasy = gatunki.loc[gatunki['gatunek'] == 'ptak', 'rasa']"
   ]
  },
  {
   "cell_type": "code",
   "execution_count": 17,
   "metadata": {
    "executionInfo": {
     "elapsed": 5,
     "status": "aborted",
     "timestamp": 1624179815465,
     "user": {
      "displayName": "Rafał Sokołowski",
      "photoUrl": "",
      "userId": "01451606405973523983"
     },
     "user_tz": -120
    },
    "id": "8SyLxwRcpRhq"
   },
   "outputs": [],
   "source": [
    "new_lista_gatunków = lista_gatunków.iloc[:,1].values.tolist()\n",
    "\n",
    "for gat in new_lista_gatunków:\n",
    "    gat_rasa = list(gatunki.loc[gatunki['gatunek'] == gat, 'rasa'])\n",
    "    n = len(zwierzeta[zwierzeta['gatunek'] == gat])\n",
    "    zwierzeta.loc[zwierzeta['gatunek'] == gat, 'rasy'] = np.random.choice(gat_rasa, n, replace=True).flatten()"
   ]
  },
  {
   "cell_type": "code",
   "execution_count": 18,
   "metadata": {
    "executionInfo": {
     "elapsed": 5,
     "status": "aborted",
     "timestamp": 1624179815465,
     "user": {
      "displayName": "Rafał Sokołowski",
      "photoUrl": "",
      "userId": "01451606405973523983"
     },
     "user_tz": -120
    },
    "id": "qeSblVIhpRhq"
   },
   "outputs": [
    {
     "data": {
      "text/html": [
       "<div>\n",
       "<style scoped>\n",
       "    .dataframe tbody tr th:only-of-type {\n",
       "        vertical-align: middle;\n",
       "    }\n",
       "\n",
       "    .dataframe tbody tr th {\n",
       "        vertical-align: top;\n",
       "    }\n",
       "\n",
       "    .dataframe thead th {\n",
       "        text-align: right;\n",
       "    }\n",
       "</style>\n",
       "<table border=\"1\" class=\"dataframe\">\n",
       "  <thead>\n",
       "    <tr style=\"text-align: right;\">\n",
       "      <th></th>\n",
       "      <th>index</th>\n",
       "      <th>gatunek</th>\n",
       "      <th>rasy</th>\n",
       "    </tr>\n",
       "  </thead>\n",
       "  <tbody>\n",
       "    <tr>\n",
       "      <th>1</th>\n",
       "      <td>1</td>\n",
       "      <td>kot</td>\n",
       "      <td>bobtail</td>\n",
       "    </tr>\n",
       "    <tr>\n",
       "      <th>0</th>\n",
       "      <td>2</td>\n",
       "      <td>pies</td>\n",
       "      <td>cavalier</td>\n",
       "    </tr>\n",
       "    <tr>\n",
       "      <th>1</th>\n",
       "      <td>3</td>\n",
       "      <td>kot</td>\n",
       "      <td>bengalski</td>\n",
       "    </tr>\n",
       "    <tr>\n",
       "      <th>8</th>\n",
       "      <td>4</td>\n",
       "      <td>szczur domowy</td>\n",
       "      <td>NaN</td>\n",
       "    </tr>\n",
       "    <tr>\n",
       "      <th>8</th>\n",
       "      <td>5</td>\n",
       "      <td>szczur domowy</td>\n",
       "      <td>NaN</td>\n",
       "    </tr>\n",
       "    <tr>\n",
       "      <th>...</th>\n",
       "      <td>...</td>\n",
       "      <td>...</td>\n",
       "      <td>...</td>\n",
       "    </tr>\n",
       "    <tr>\n",
       "      <th>0</th>\n",
       "      <td>1196</td>\n",
       "      <td>pies</td>\n",
       "      <td>hawańczyk</td>\n",
       "    </tr>\n",
       "    <tr>\n",
       "      <th>0</th>\n",
       "      <td>1197</td>\n",
       "      <td>pies</td>\n",
       "      <td>lhasa apso</td>\n",
       "    </tr>\n",
       "    <tr>\n",
       "      <th>5</th>\n",
       "      <td>1198</td>\n",
       "      <td>szynszyla</td>\n",
       "      <td>NaN</td>\n",
       "    </tr>\n",
       "    <tr>\n",
       "      <th>1</th>\n",
       "      <td>1199</td>\n",
       "      <td>kot</td>\n",
       "      <td>maine coon</td>\n",
       "    </tr>\n",
       "    <tr>\n",
       "      <th>1</th>\n",
       "      <td>1200</td>\n",
       "      <td>kot</td>\n",
       "      <td>turecki van</td>\n",
       "    </tr>\n",
       "  </tbody>\n",
       "</table>\n",
       "<p>1200 rows × 3 columns</p>\n",
       "</div>"
      ],
      "text/plain": [
       "    index        gatunek         rasy\n",
       "1       1            kot      bobtail\n",
       "0       2           pies     cavalier\n",
       "1       3            kot    bengalski\n",
       "8       4  szczur domowy          NaN\n",
       "8       5  szczur domowy          NaN\n",
       "..    ...            ...          ...\n",
       "0    1196           pies    hawańczyk\n",
       "0    1197           pies   lhasa apso\n",
       "5    1198      szynszyla          NaN\n",
       "1    1199            kot   maine coon\n",
       "1    1200            kot  turecki van\n",
       "\n",
       "[1200 rows x 3 columns]"
      ]
     },
     "execution_count": 18,
     "metadata": {},
     "output_type": "execute_result"
    }
   ],
   "source": [
    "zwierzeta"
   ]
  },
  {
   "cell_type": "code",
   "execution_count": 19,
   "metadata": {
    "executionInfo": {
     "elapsed": 6,
     "status": "aborted",
     "timestamp": 1624179815466,
     "user": {
      "displayName": "Rafał Sokołowski",
      "photoUrl": "",
      "userId": "01451606405973523983"
     },
     "user_tz": -120
    },
    "id": "0X3s2dPqpRhq"
   },
   "outputs": [
    {
     "data": {
      "text/html": [
       "<div>\n",
       "<style scoped>\n",
       "    .dataframe tbody tr th:only-of-type {\n",
       "        vertical-align: middle;\n",
       "    }\n",
       "\n",
       "    .dataframe tbody tr th {\n",
       "        vertical-align: top;\n",
       "    }\n",
       "\n",
       "    .dataframe thead th {\n",
       "        text-align: right;\n",
       "    }\n",
       "</style>\n",
       "<table border=\"1\" class=\"dataframe\">\n",
       "  <thead>\n",
       "    <tr style=\"text-align: right;\">\n",
       "      <th></th>\n",
       "      <th>Gatunek</th>\n",
       "      <th>Rasa</th>\n",
       "    </tr>\n",
       "  </thead>\n",
       "  <tbody>\n",
       "    <tr>\n",
       "      <th>0</th>\n",
       "      <td>kot</td>\n",
       "      <td>bobtail</td>\n",
       "    </tr>\n",
       "    <tr>\n",
       "      <th>1</th>\n",
       "      <td>pies</td>\n",
       "      <td>cavalier</td>\n",
       "    </tr>\n",
       "    <tr>\n",
       "      <th>2</th>\n",
       "      <td>kot</td>\n",
       "      <td>bengalski</td>\n",
       "    </tr>\n",
       "    <tr>\n",
       "      <th>3</th>\n",
       "      <td>szczur domowy</td>\n",
       "      <td>NaN</td>\n",
       "    </tr>\n",
       "    <tr>\n",
       "      <th>4</th>\n",
       "      <td>szczur domowy</td>\n",
       "      <td>NaN</td>\n",
       "    </tr>\n",
       "    <tr>\n",
       "      <th>...</th>\n",
       "      <td>...</td>\n",
       "      <td>...</td>\n",
       "    </tr>\n",
       "    <tr>\n",
       "      <th>1195</th>\n",
       "      <td>pies</td>\n",
       "      <td>hawańczyk</td>\n",
       "    </tr>\n",
       "    <tr>\n",
       "      <th>1196</th>\n",
       "      <td>pies</td>\n",
       "      <td>lhasa apso</td>\n",
       "    </tr>\n",
       "    <tr>\n",
       "      <th>1197</th>\n",
       "      <td>szynszyla</td>\n",
       "      <td>NaN</td>\n",
       "    </tr>\n",
       "    <tr>\n",
       "      <th>1198</th>\n",
       "      <td>kot</td>\n",
       "      <td>maine coon</td>\n",
       "    </tr>\n",
       "    <tr>\n",
       "      <th>1199</th>\n",
       "      <td>kot</td>\n",
       "      <td>turecki van</td>\n",
       "    </tr>\n",
       "  </tbody>\n",
       "</table>\n",
       "<p>1200 rows × 2 columns</p>\n",
       "</div>"
      ],
      "text/plain": [
       "            Gatunek         Rasa\n",
       "0               kot      bobtail\n",
       "1              pies     cavalier\n",
       "2               kot    bengalski\n",
       "3     szczur domowy          NaN\n",
       "4     szczur domowy          NaN\n",
       "...             ...          ...\n",
       "1195           pies    hawańczyk\n",
       "1196           pies   lhasa apso\n",
       "1197      szynszyla          NaN\n",
       "1198            kot   maine coon\n",
       "1199            kot  turecki van\n",
       "\n",
       "[1200 rows x 2 columns]"
      ]
     },
     "execution_count": 19,
     "metadata": {},
     "output_type": "execute_result"
    }
   ],
   "source": [
    "zwierzeta = zwierzeta.reset_index()\n",
    "zwierzeta = zwierzeta.drop(columns = ['level_0','index'])\n",
    "zwierzeta.columns = ['Gatunek', 'Rasa']\n",
    "zwierzeta"
   ]
  },
  {
   "cell_type": "markdown",
   "metadata": {
    "id": "CrJFfByzpRhr"
   },
   "source": [
    "#### Połączona tabela: IMIĘ, PŁEĆ, GATUNEK, RASA"
   ]
  },
  {
   "cell_type": "code",
   "execution_count": 20,
   "metadata": {
    "colab": {
     "base_uri": "https://localhost:8080/",
     "height": 178
    },
    "executionInfo": {
     "elapsed": 6,
     "status": "error",
     "timestamp": 1624179816204,
     "user": {
      "displayName": "Rafał Sokołowski",
      "photoUrl": "",
      "userId": "01451606405973523983"
     },
     "user_tz": -120
    },
    "id": "hsPBWsSDpRhr",
    "outputId": "b968d042-21a7-48f9-9569-81cf4dc0b053"
   },
   "outputs": [
    {
     "data": {
      "text/html": [
       "<div>\n",
       "<style scoped>\n",
       "    .dataframe tbody tr th:only-of-type {\n",
       "        vertical-align: middle;\n",
       "    }\n",
       "\n",
       "    .dataframe tbody tr th {\n",
       "        vertical-align: top;\n",
       "    }\n",
       "\n",
       "    .dataframe thead th {\n",
       "        text-align: right;\n",
       "    }\n",
       "</style>\n",
       "<table border=\"1\" class=\"dataframe\">\n",
       "  <thead>\n",
       "    <tr style=\"text-align: right;\">\n",
       "      <th></th>\n",
       "      <th>Imię</th>\n",
       "      <th>Płeć</th>\n",
       "      <th>Gatunek</th>\n",
       "      <th>Rasa</th>\n",
       "    </tr>\n",
       "  </thead>\n",
       "  <tbody>\n",
       "    <tr>\n",
       "      <th>0</th>\n",
       "      <td>Lili</td>\n",
       "      <td>K</td>\n",
       "      <td>kot</td>\n",
       "      <td>bobtail</td>\n",
       "    </tr>\n",
       "    <tr>\n",
       "      <th>1</th>\n",
       "      <td>Fifka</td>\n",
       "      <td>K</td>\n",
       "      <td>pies</td>\n",
       "      <td>cavalier</td>\n",
       "    </tr>\n",
       "    <tr>\n",
       "      <th>2</th>\n",
       "      <td>Borówka</td>\n",
       "      <td>K</td>\n",
       "      <td>kot</td>\n",
       "      <td>bengalski</td>\n",
       "    </tr>\n",
       "    <tr>\n",
       "      <th>3</th>\n",
       "      <td>Roxi</td>\n",
       "      <td>K</td>\n",
       "      <td>szczur domowy</td>\n",
       "      <td>NaN</td>\n",
       "    </tr>\n",
       "    <tr>\n",
       "      <th>4</th>\n",
       "      <td>Dżasti</td>\n",
       "      <td>K</td>\n",
       "      <td>szczur domowy</td>\n",
       "      <td>NaN</td>\n",
       "    </tr>\n",
       "    <tr>\n",
       "      <th>...</th>\n",
       "      <td>...</td>\n",
       "      <td>...</td>\n",
       "      <td>...</td>\n",
       "      <td>...</td>\n",
       "    </tr>\n",
       "    <tr>\n",
       "      <th>1195</th>\n",
       "      <td>Bajer</td>\n",
       "      <td>M</td>\n",
       "      <td>pies</td>\n",
       "      <td>hawańczyk</td>\n",
       "    </tr>\n",
       "    <tr>\n",
       "      <th>1196</th>\n",
       "      <td>Largo</td>\n",
       "      <td>M</td>\n",
       "      <td>pies</td>\n",
       "      <td>lhasa apso</td>\n",
       "    </tr>\n",
       "    <tr>\n",
       "      <th>1197</th>\n",
       "      <td>Chrupek</td>\n",
       "      <td>M</td>\n",
       "      <td>szynszyla</td>\n",
       "      <td>NaN</td>\n",
       "    </tr>\n",
       "    <tr>\n",
       "      <th>1198</th>\n",
       "      <td>Mafii</td>\n",
       "      <td>M</td>\n",
       "      <td>kot</td>\n",
       "      <td>maine coon</td>\n",
       "    </tr>\n",
       "    <tr>\n",
       "      <th>1199</th>\n",
       "      <td>Nicko</td>\n",
       "      <td>M</td>\n",
       "      <td>kot</td>\n",
       "      <td>turecki van</td>\n",
       "    </tr>\n",
       "  </tbody>\n",
       "</table>\n",
       "<p>1200 rows × 4 columns</p>\n",
       "</div>"
      ],
      "text/plain": [
       "         Imię Płeć        Gatunek         Rasa\n",
       "0        Lili    K            kot      bobtail\n",
       "1       Fifka    K           pies     cavalier\n",
       "2     Borówka    K            kot    bengalski\n",
       "3        Roxi    K  szczur domowy          NaN\n",
       "4      Dżasti    K  szczur domowy          NaN\n",
       "...       ...  ...            ...          ...\n",
       "1195    Bajer    M           pies    hawańczyk\n",
       "1196    Largo    M           pies   lhasa apso\n",
       "1197  Chrupek    M      szynszyla          NaN\n",
       "1198    Mafii    M            kot   maine coon\n",
       "1199    Nicko    M            kot  turecki van\n",
       "\n",
       "[1200 rows x 4 columns]"
      ]
     },
     "execution_count": 20,
     "metadata": {},
     "output_type": "execute_result"
    }
   ],
   "source": [
    "imię_płeć_gatunek_rasa = pd.concat([imię_płeć, zwierzeta], axis=1)\n",
    "imię_płeć_gatunek_rasa"
   ]
  },
  {
   "cell_type": "markdown",
   "metadata": {
    "id": "w29v_8YNpRhr"
   },
   "source": [
    "#### Data urodzenia"
   ]
  },
  {
   "cell_type": "code",
   "execution_count": 21,
   "metadata": {
    "executionInfo": {
     "elapsed": 3,
     "status": "aborted",
     "timestamp": 1624179816203,
     "user": {
      "displayName": "Rafał Sokołowski",
      "photoUrl": "",
      "userId": "01451606405973523983"
     },
     "user_tz": -120
    },
    "id": "jHBVX4HLpRhr"
   },
   "outputs": [],
   "source": [
    "imię_płeć_gatunek_rasa['maksymalna_żywotność'] = 0"
   ]
  },
  {
   "cell_type": "code",
   "execution_count": 22,
   "metadata": {
    "colab": {
     "base_uri": "https://localhost:8080/",
     "height": 229
    },
    "executionInfo": {
     "elapsed": 8,
     "status": "error",
     "timestamp": 1624179816968,
     "user": {
      "displayName": "Rafał Sokołowski",
      "photoUrl": "",
      "userId": "01451606405973523983"
     },
     "user_tz": -120
    },
    "id": "GCUla3YfpRhs",
    "outputId": "e90e961a-959c-4825-b5a8-b965f961041e"
   },
   "outputs": [],
   "source": [
    "for idx, row in imię_płeć_gatunek_rasa.iterrows():\n",
    "    if pd.isna(row['Rasa']):\n",
    "        imię_płeć_gatunek_rasa.loc[idx, 'maksymalna_żywotność'] = gatunki.loc[gatunki['gatunek'] == row['Gatunek'], 'maksymalna_żywotność'].values\n",
    "    else:\n",
    "        imię_płeć_gatunek_rasa.loc[idx, 'maksymalna_żywotność'] = gatunki.loc[gatunki['rasa'] == row['Rasa'], 'maksymalna_żywotność'].values"
   ]
  },
  {
   "cell_type": "code",
   "execution_count": 23,
   "metadata": {
    "executionInfo": {
     "elapsed": 4,
     "status": "aborted",
     "timestamp": 1624179816966,
     "user": {
      "displayName": "Rafał Sokołowski",
      "photoUrl": "",
      "userId": "01451606405973523983"
     },
     "user_tz": -120
    },
    "id": "1cM3kfTPpRhs"
   },
   "outputs": [
    {
     "data": {
      "text/html": [
       "<div>\n",
       "<style scoped>\n",
       "    .dataframe tbody tr th:only-of-type {\n",
       "        vertical-align: middle;\n",
       "    }\n",
       "\n",
       "    .dataframe tbody tr th {\n",
       "        vertical-align: top;\n",
       "    }\n",
       "\n",
       "    .dataframe thead th {\n",
       "        text-align: right;\n",
       "    }\n",
       "</style>\n",
       "<table border=\"1\" class=\"dataframe\">\n",
       "  <thead>\n",
       "    <tr style=\"text-align: right;\">\n",
       "      <th></th>\n",
       "      <th>Imię</th>\n",
       "      <th>Płeć</th>\n",
       "      <th>Gatunek</th>\n",
       "      <th>Rasa</th>\n",
       "      <th>maksymalna_żywotność</th>\n",
       "    </tr>\n",
       "  </thead>\n",
       "  <tbody>\n",
       "    <tr>\n",
       "      <th>0</th>\n",
       "      <td>Lili</td>\n",
       "      <td>K</td>\n",
       "      <td>kot</td>\n",
       "      <td>bobtail</td>\n",
       "      <td>15</td>\n",
       "    </tr>\n",
       "    <tr>\n",
       "      <th>1</th>\n",
       "      <td>Fifka</td>\n",
       "      <td>K</td>\n",
       "      <td>pies</td>\n",
       "      <td>cavalier</td>\n",
       "      <td>14</td>\n",
       "    </tr>\n",
       "    <tr>\n",
       "      <th>2</th>\n",
       "      <td>Borówka</td>\n",
       "      <td>K</td>\n",
       "      <td>kot</td>\n",
       "      <td>bengalski</td>\n",
       "      <td>8</td>\n",
       "    </tr>\n",
       "    <tr>\n",
       "      <th>3</th>\n",
       "      <td>Roxi</td>\n",
       "      <td>K</td>\n",
       "      <td>szczur domowy</td>\n",
       "      <td>NaN</td>\n",
       "      <td>3</td>\n",
       "    </tr>\n",
       "    <tr>\n",
       "      <th>4</th>\n",
       "      <td>Dżasti</td>\n",
       "      <td>K</td>\n",
       "      <td>szczur domowy</td>\n",
       "      <td>NaN</td>\n",
       "      <td>3</td>\n",
       "    </tr>\n",
       "    <tr>\n",
       "      <th>...</th>\n",
       "      <td>...</td>\n",
       "      <td>...</td>\n",
       "      <td>...</td>\n",
       "      <td>...</td>\n",
       "      <td>...</td>\n",
       "    </tr>\n",
       "    <tr>\n",
       "      <th>1195</th>\n",
       "      <td>Bajer</td>\n",
       "      <td>M</td>\n",
       "      <td>pies</td>\n",
       "      <td>hawańczyk</td>\n",
       "      <td>15</td>\n",
       "    </tr>\n",
       "    <tr>\n",
       "      <th>1196</th>\n",
       "      <td>Largo</td>\n",
       "      <td>M</td>\n",
       "      <td>pies</td>\n",
       "      <td>lhasa apso</td>\n",
       "      <td>14</td>\n",
       "    </tr>\n",
       "    <tr>\n",
       "      <th>1197</th>\n",
       "      <td>Chrupek</td>\n",
       "      <td>M</td>\n",
       "      <td>szynszyla</td>\n",
       "      <td>NaN</td>\n",
       "      <td>10</td>\n",
       "    </tr>\n",
       "    <tr>\n",
       "      <th>1198</th>\n",
       "      <td>Mafii</td>\n",
       "      <td>M</td>\n",
       "      <td>kot</td>\n",
       "      <td>maine coon</td>\n",
       "      <td>18</td>\n",
       "    </tr>\n",
       "    <tr>\n",
       "      <th>1199</th>\n",
       "      <td>Nicko</td>\n",
       "      <td>M</td>\n",
       "      <td>kot</td>\n",
       "      <td>turecki van</td>\n",
       "      <td>18</td>\n",
       "    </tr>\n",
       "  </tbody>\n",
       "</table>\n",
       "<p>1200 rows × 5 columns</p>\n",
       "</div>"
      ],
      "text/plain": [
       "         Imię Płeć        Gatunek         Rasa  maksymalna_żywotność\n",
       "0        Lili    K            kot      bobtail                    15\n",
       "1       Fifka    K           pies     cavalier                    14\n",
       "2     Borówka    K            kot    bengalski                     8\n",
       "3        Roxi    K  szczur domowy          NaN                     3\n",
       "4      Dżasti    K  szczur domowy          NaN                     3\n",
       "...       ...  ...            ...          ...                   ...\n",
       "1195    Bajer    M           pies    hawańczyk                    15\n",
       "1196    Largo    M           pies   lhasa apso                    14\n",
       "1197  Chrupek    M      szynszyla          NaN                    10\n",
       "1198    Mafii    M            kot   maine coon                    18\n",
       "1199    Nicko    M            kot  turecki van                    18\n",
       "\n",
       "[1200 rows x 5 columns]"
      ]
     },
     "execution_count": 23,
     "metadata": {},
     "output_type": "execute_result"
    }
   ],
   "source": [
    "imię_płeć_gatunek_rasa"
   ]
  },
  {
   "cell_type": "code",
   "execution_count": 24,
   "metadata": {
    "executionInfo": {
     "elapsed": 5,
     "status": "aborted",
     "timestamp": 1624179816967,
     "user": {
      "displayName": "Rafał Sokołowski",
      "photoUrl": "",
      "userId": "01451606405973523983"
     },
     "user_tz": -120
    },
    "id": "y86ndkkzpRhs"
   },
   "outputs": [],
   "source": [
    "p = 0.3\n",
    "q = 1 - p\n",
    "n = len(imię_płeć_gatunek_rasa)\n",
    "\n",
    "imię_płeć_gatunek_rasa['mu_p'] = 1/5*imię_płeć_gatunek_rasa['maksymalna_żywotność']\n",
    "imię_płeć_gatunek_rasa['mu_q'] = 3/5*imię_płeć_gatunek_rasa['maksymalna_żywotność']\n",
    "imię_płeć_gatunek_rasa['sigma_p'] = 2/15*imię_płeć_gatunek_rasa['maksymalna_żywotność']\n",
    "imię_płeć_gatunek_rasa['sigma_q'] = 1/15*imię_płeć_gatunek_rasa['maksymalna_żywotność']\n",
    "imię_płeć_gatunek_rasa['flaga'] = (np.random.rand(n) <= p).astype(int)"
   ]
  },
  {
   "cell_type": "code",
   "execution_count": 25,
   "metadata": {
    "executionInfo": {
     "elapsed": 5,
     "status": "aborted",
     "timestamp": 1624179816967,
     "user": {
      "displayName": "Rafał Sokołowski",
      "photoUrl": "",
      "userId": "01451606405973523983"
     },
     "user_tz": -120
    },
    "id": "PjHIA8VHpRhs"
   },
   "outputs": [],
   "source": [
    "imię_płeć_gatunek_rasa['wiek'] = imię_płeć_gatunek_rasa.agg(lambda x: 0.1 +  np.abs(x['flaga'] * np.random.normal(x['mu_p'], x['sigma_p']) + \\\n",
    "                        (1- x['flaga']) * np.random.normal(x['mu_q'], x['sigma_q'])), axis=1)"
   ]
  },
  {
   "cell_type": "code",
   "execution_count": 26,
   "metadata": {
    "colab": {
     "base_uri": "https://localhost:8080/",
     "height": 195
    },
    "executionInfo": {
     "elapsed": 396,
     "status": "error",
     "timestamp": 1624179817759,
     "user": {
      "displayName": "Rafał Sokołowski",
      "photoUrl": "",
      "userId": "01451606405973523983"
     },
     "user_tz": -120
    },
    "id": "YUIDLIzapRht",
    "outputId": "5132b38a-fac1-4771-e0e0-b43ec7aef1a2"
   },
   "outputs": [],
   "source": [
    "imię_płeć_gatunek_rasa['data_urodzenia'] = imię_płeć_gatunek_rasa.agg(lambda x: pd.to_datetime('18.06.2021', format = '%d.%m.%Y') - pd.to_timedelta(x['wiek']*365, unit='D'), axis=1)\n",
    "imię_płeć_gatunek_rasa['data_urodzenia'] = imię_płeć_gatunek_rasa['data_urodzenia'].dt.strftime('%d.%m.%Y')"
   ]
  },
  {
   "cell_type": "code",
   "execution_count": 27,
   "metadata": {
    "executionInfo": {
     "elapsed": 390,
     "status": "aborted",
     "timestamp": 1624179817755,
     "user": {
      "displayName": "Rafał Sokołowski",
      "photoUrl": "",
      "userId": "01451606405973523983"
     },
     "user_tz": -120
    },
    "id": "r6Et_TYApRht"
   },
   "outputs": [
    {
     "data": {
      "text/html": [
       "<div>\n",
       "<style scoped>\n",
       "    .dataframe tbody tr th:only-of-type {\n",
       "        vertical-align: middle;\n",
       "    }\n",
       "\n",
       "    .dataframe tbody tr th {\n",
       "        vertical-align: top;\n",
       "    }\n",
       "\n",
       "    .dataframe thead th {\n",
       "        text-align: right;\n",
       "    }\n",
       "</style>\n",
       "<table border=\"1\" class=\"dataframe\">\n",
       "  <thead>\n",
       "    <tr style=\"text-align: right;\">\n",
       "      <th></th>\n",
       "      <th>Imię</th>\n",
       "      <th>Płeć</th>\n",
       "      <th>Gatunek</th>\n",
       "      <th>Rasa</th>\n",
       "      <th>maksymalna_żywotność</th>\n",
       "      <th>mu_p</th>\n",
       "      <th>mu_q</th>\n",
       "      <th>sigma_p</th>\n",
       "      <th>sigma_q</th>\n",
       "      <th>flaga</th>\n",
       "      <th>wiek</th>\n",
       "      <th>data_urodzenia</th>\n",
       "    </tr>\n",
       "  </thead>\n",
       "  <tbody>\n",
       "    <tr>\n",
       "      <th>0</th>\n",
       "      <td>Lili</td>\n",
       "      <td>K</td>\n",
       "      <td>kot</td>\n",
       "      <td>bobtail</td>\n",
       "      <td>15</td>\n",
       "      <td>3.0</td>\n",
       "      <td>9.0</td>\n",
       "      <td>2.000000</td>\n",
       "      <td>1.000000</td>\n",
       "      <td>1</td>\n",
       "      <td>4.259266</td>\n",
       "      <td>16.03.2017</td>\n",
       "    </tr>\n",
       "    <tr>\n",
       "      <th>1</th>\n",
       "      <td>Fifka</td>\n",
       "      <td>K</td>\n",
       "      <td>pies</td>\n",
       "      <td>cavalier</td>\n",
       "      <td>14</td>\n",
       "      <td>2.8</td>\n",
       "      <td>8.4</td>\n",
       "      <td>1.866667</td>\n",
       "      <td>0.933333</td>\n",
       "      <td>1</td>\n",
       "      <td>3.262851</td>\n",
       "      <td>15.03.2018</td>\n",
       "    </tr>\n",
       "    <tr>\n",
       "      <th>2</th>\n",
       "      <td>Borówka</td>\n",
       "      <td>K</td>\n",
       "      <td>kot</td>\n",
       "      <td>bengalski</td>\n",
       "      <td>8</td>\n",
       "      <td>1.6</td>\n",
       "      <td>4.8</td>\n",
       "      <td>1.066667</td>\n",
       "      <td>0.533333</td>\n",
       "      <td>1</td>\n",
       "      <td>2.061049</td>\n",
       "      <td>27.05.2019</td>\n",
       "    </tr>\n",
       "    <tr>\n",
       "      <th>3</th>\n",
       "      <td>Roxi</td>\n",
       "      <td>K</td>\n",
       "      <td>szczur domowy</td>\n",
       "      <td>NaN</td>\n",
       "      <td>3</td>\n",
       "      <td>0.6</td>\n",
       "      <td>1.8</td>\n",
       "      <td>0.400000</td>\n",
       "      <td>0.200000</td>\n",
       "      <td>0</td>\n",
       "      <td>2.163520</td>\n",
       "      <td>20.04.2019</td>\n",
       "    </tr>\n",
       "    <tr>\n",
       "      <th>4</th>\n",
       "      <td>Dżasti</td>\n",
       "      <td>K</td>\n",
       "      <td>szczur domowy</td>\n",
       "      <td>NaN</td>\n",
       "      <td>3</td>\n",
       "      <td>0.6</td>\n",
       "      <td>1.8</td>\n",
       "      <td>0.400000</td>\n",
       "      <td>0.200000</td>\n",
       "      <td>1</td>\n",
       "      <td>0.297383</td>\n",
       "      <td>01.03.2021</td>\n",
       "    </tr>\n",
       "    <tr>\n",
       "      <th>...</th>\n",
       "      <td>...</td>\n",
       "      <td>...</td>\n",
       "      <td>...</td>\n",
       "      <td>...</td>\n",
       "      <td>...</td>\n",
       "      <td>...</td>\n",
       "      <td>...</td>\n",
       "      <td>...</td>\n",
       "      <td>...</td>\n",
       "      <td>...</td>\n",
       "      <td>...</td>\n",
       "      <td>...</td>\n",
       "    </tr>\n",
       "    <tr>\n",
       "      <th>1195</th>\n",
       "      <td>Bajer</td>\n",
       "      <td>M</td>\n",
       "      <td>pies</td>\n",
       "      <td>hawańczyk</td>\n",
       "      <td>15</td>\n",
       "      <td>3.0</td>\n",
       "      <td>9.0</td>\n",
       "      <td>2.000000</td>\n",
       "      <td>1.000000</td>\n",
       "      <td>0</td>\n",
       "      <td>9.865878</td>\n",
       "      <td>08.08.2011</td>\n",
       "    </tr>\n",
       "    <tr>\n",
       "      <th>1196</th>\n",
       "      <td>Largo</td>\n",
       "      <td>M</td>\n",
       "      <td>pies</td>\n",
       "      <td>lhasa apso</td>\n",
       "      <td>14</td>\n",
       "      <td>2.8</td>\n",
       "      <td>8.4</td>\n",
       "      <td>1.866667</td>\n",
       "      <td>0.933333</td>\n",
       "      <td>1</td>\n",
       "      <td>0.316322</td>\n",
       "      <td>22.02.2021</td>\n",
       "    </tr>\n",
       "    <tr>\n",
       "      <th>1197</th>\n",
       "      <td>Chrupek</td>\n",
       "      <td>M</td>\n",
       "      <td>szynszyla</td>\n",
       "      <td>NaN</td>\n",
       "      <td>10</td>\n",
       "      <td>2.0</td>\n",
       "      <td>6.0</td>\n",
       "      <td>1.333333</td>\n",
       "      <td>0.666667</td>\n",
       "      <td>1</td>\n",
       "      <td>3.343246</td>\n",
       "      <td>13.02.2018</td>\n",
       "    </tr>\n",
       "    <tr>\n",
       "      <th>1198</th>\n",
       "      <td>Mafii</td>\n",
       "      <td>M</td>\n",
       "      <td>kot</td>\n",
       "      <td>maine coon</td>\n",
       "      <td>18</td>\n",
       "      <td>3.6</td>\n",
       "      <td>10.8</td>\n",
       "      <td>2.400000</td>\n",
       "      <td>1.200000</td>\n",
       "      <td>0</td>\n",
       "      <td>14.277585</td>\n",
       "      <td>12.03.2007</td>\n",
       "    </tr>\n",
       "    <tr>\n",
       "      <th>1199</th>\n",
       "      <td>Nicko</td>\n",
       "      <td>M</td>\n",
       "      <td>kot</td>\n",
       "      <td>turecki van</td>\n",
       "      <td>18</td>\n",
       "      <td>3.6</td>\n",
       "      <td>10.8</td>\n",
       "      <td>2.400000</td>\n",
       "      <td>1.200000</td>\n",
       "      <td>0</td>\n",
       "      <td>11.371968</td>\n",
       "      <td>05.02.2010</td>\n",
       "    </tr>\n",
       "  </tbody>\n",
       "</table>\n",
       "<p>1200 rows × 12 columns</p>\n",
       "</div>"
      ],
      "text/plain": [
       "         Imię Płeć        Gatunek         Rasa  maksymalna_żywotność  mu_p  \\\n",
       "0        Lili    K            kot      bobtail                    15   3.0   \n",
       "1       Fifka    K           pies     cavalier                    14   2.8   \n",
       "2     Borówka    K            kot    bengalski                     8   1.6   \n",
       "3        Roxi    K  szczur domowy          NaN                     3   0.6   \n",
       "4      Dżasti    K  szczur domowy          NaN                     3   0.6   \n",
       "...       ...  ...            ...          ...                   ...   ...   \n",
       "1195    Bajer    M           pies    hawańczyk                    15   3.0   \n",
       "1196    Largo    M           pies   lhasa apso                    14   2.8   \n",
       "1197  Chrupek    M      szynszyla          NaN                    10   2.0   \n",
       "1198    Mafii    M            kot   maine coon                    18   3.6   \n",
       "1199    Nicko    M            kot  turecki van                    18   3.6   \n",
       "\n",
       "      mu_q   sigma_p   sigma_q  flaga       wiek data_urodzenia  \n",
       "0      9.0  2.000000  1.000000      1   4.259266     16.03.2017  \n",
       "1      8.4  1.866667  0.933333      1   3.262851     15.03.2018  \n",
       "2      4.8  1.066667  0.533333      1   2.061049     27.05.2019  \n",
       "3      1.8  0.400000  0.200000      0   2.163520     20.04.2019  \n",
       "4      1.8  0.400000  0.200000      1   0.297383     01.03.2021  \n",
       "...    ...       ...       ...    ...        ...            ...  \n",
       "1195   9.0  2.000000  1.000000      0   9.865878     08.08.2011  \n",
       "1196   8.4  1.866667  0.933333      1   0.316322     22.02.2021  \n",
       "1197   6.0  1.333333  0.666667      1   3.343246     13.02.2018  \n",
       "1198  10.8  2.400000  1.200000      0  14.277585     12.03.2007  \n",
       "1199  10.8  2.400000  1.200000      0  11.371968     05.02.2010  \n",
       "\n",
       "[1200 rows x 12 columns]"
      ]
     },
     "execution_count": 27,
     "metadata": {},
     "output_type": "execute_result"
    }
   ],
   "source": [
    "imię_płeć_gatunek_rasa"
   ]
  },
  {
   "cell_type": "markdown",
   "metadata": {
    "id": "5RrW6pispRht"
   },
   "source": [
    "#### IMIĘ, PŁEĆ, GATUNEK, RASA, WIEK, DATA URODZENIA"
   ]
  },
  {
   "cell_type": "code",
   "execution_count": 28,
   "metadata": {
    "executionInfo": {
     "elapsed": 391,
     "status": "aborted",
     "timestamp": 1624179817756,
     "user": {
      "displayName": "Rafał Sokołowski",
      "photoUrl": "",
      "userId": "01451606405973523983"
     },
     "user_tz": -120
    },
    "id": "oeqBniXypRht"
   },
   "outputs": [],
   "source": [
    "imię_płeć_gatunek_rasa_wiek_data = pd.concat([imię_płeć_gatunek_rasa.iloc[:, 0:4], imię_płeć_gatunek_rasa.iloc[:,10:12]], axis=1)"
   ]
  },
  {
   "cell_type": "code",
   "execution_count": 29,
   "metadata": {
    "colab": {
     "base_uri": "https://localhost:8080/",
     "height": 178
    },
    "executionInfo": {
     "elapsed": 359,
     "status": "error",
     "timestamp": 1624179818112,
     "user": {
      "displayName": "Rafał Sokołowski",
      "photoUrl": "",
      "userId": "01451606405973523983"
     },
     "user_tz": -120
    },
    "id": "J9iD7Hw9pRhu",
    "outputId": "53a455b8-c2bd-48a1-ec2d-2f681d18a771"
   },
   "outputs": [
    {
     "data": {
      "text/html": [
       "<div>\n",
       "<style scoped>\n",
       "    .dataframe tbody tr th:only-of-type {\n",
       "        vertical-align: middle;\n",
       "    }\n",
       "\n",
       "    .dataframe tbody tr th {\n",
       "        vertical-align: top;\n",
       "    }\n",
       "\n",
       "    .dataframe thead th {\n",
       "        text-align: right;\n",
       "    }\n",
       "</style>\n",
       "<table border=\"1\" class=\"dataframe\">\n",
       "  <thead>\n",
       "    <tr style=\"text-align: right;\">\n",
       "      <th></th>\n",
       "      <th>Imię</th>\n",
       "      <th>Płeć</th>\n",
       "      <th>Gatunek</th>\n",
       "      <th>Rasa</th>\n",
       "      <th>Wiek</th>\n",
       "      <th>Data urodzenia</th>\n",
       "    </tr>\n",
       "  </thead>\n",
       "  <tbody>\n",
       "    <tr>\n",
       "      <th>0</th>\n",
       "      <td>Lili</td>\n",
       "      <td>K</td>\n",
       "      <td>kot</td>\n",
       "      <td>bobtail</td>\n",
       "      <td>4.259266</td>\n",
       "      <td>16.03.2017</td>\n",
       "    </tr>\n",
       "    <tr>\n",
       "      <th>1</th>\n",
       "      <td>Fifka</td>\n",
       "      <td>K</td>\n",
       "      <td>pies</td>\n",
       "      <td>cavalier</td>\n",
       "      <td>3.262851</td>\n",
       "      <td>15.03.2018</td>\n",
       "    </tr>\n",
       "    <tr>\n",
       "      <th>2</th>\n",
       "      <td>Borówka</td>\n",
       "      <td>K</td>\n",
       "      <td>kot</td>\n",
       "      <td>bengalski</td>\n",
       "      <td>2.061049</td>\n",
       "      <td>27.05.2019</td>\n",
       "    </tr>\n",
       "    <tr>\n",
       "      <th>3</th>\n",
       "      <td>Roxi</td>\n",
       "      <td>K</td>\n",
       "      <td>szczur domowy</td>\n",
       "      <td>NaN</td>\n",
       "      <td>2.163520</td>\n",
       "      <td>20.04.2019</td>\n",
       "    </tr>\n",
       "    <tr>\n",
       "      <th>4</th>\n",
       "      <td>Dżasti</td>\n",
       "      <td>K</td>\n",
       "      <td>szczur domowy</td>\n",
       "      <td>NaN</td>\n",
       "      <td>0.297383</td>\n",
       "      <td>01.03.2021</td>\n",
       "    </tr>\n",
       "    <tr>\n",
       "      <th>...</th>\n",
       "      <td>...</td>\n",
       "      <td>...</td>\n",
       "      <td>...</td>\n",
       "      <td>...</td>\n",
       "      <td>...</td>\n",
       "      <td>...</td>\n",
       "    </tr>\n",
       "    <tr>\n",
       "      <th>1195</th>\n",
       "      <td>Bajer</td>\n",
       "      <td>M</td>\n",
       "      <td>pies</td>\n",
       "      <td>hawańczyk</td>\n",
       "      <td>9.865878</td>\n",
       "      <td>08.08.2011</td>\n",
       "    </tr>\n",
       "    <tr>\n",
       "      <th>1196</th>\n",
       "      <td>Largo</td>\n",
       "      <td>M</td>\n",
       "      <td>pies</td>\n",
       "      <td>lhasa apso</td>\n",
       "      <td>0.316322</td>\n",
       "      <td>22.02.2021</td>\n",
       "    </tr>\n",
       "    <tr>\n",
       "      <th>1197</th>\n",
       "      <td>Chrupek</td>\n",
       "      <td>M</td>\n",
       "      <td>szynszyla</td>\n",
       "      <td>NaN</td>\n",
       "      <td>3.343246</td>\n",
       "      <td>13.02.2018</td>\n",
       "    </tr>\n",
       "    <tr>\n",
       "      <th>1198</th>\n",
       "      <td>Mafii</td>\n",
       "      <td>M</td>\n",
       "      <td>kot</td>\n",
       "      <td>maine coon</td>\n",
       "      <td>14.277585</td>\n",
       "      <td>12.03.2007</td>\n",
       "    </tr>\n",
       "    <tr>\n",
       "      <th>1199</th>\n",
       "      <td>Nicko</td>\n",
       "      <td>M</td>\n",
       "      <td>kot</td>\n",
       "      <td>turecki van</td>\n",
       "      <td>11.371968</td>\n",
       "      <td>05.02.2010</td>\n",
       "    </tr>\n",
       "  </tbody>\n",
       "</table>\n",
       "<p>1200 rows × 6 columns</p>\n",
       "</div>"
      ],
      "text/plain": [
       "         Imię Płeć        Gatunek         Rasa       Wiek Data urodzenia\n",
       "0        Lili    K            kot      bobtail   4.259266     16.03.2017\n",
       "1       Fifka    K           pies     cavalier   3.262851     15.03.2018\n",
       "2     Borówka    K            kot    bengalski   2.061049     27.05.2019\n",
       "3        Roxi    K  szczur domowy          NaN   2.163520     20.04.2019\n",
       "4      Dżasti    K  szczur domowy          NaN   0.297383     01.03.2021\n",
       "...       ...  ...            ...          ...        ...            ...\n",
       "1195    Bajer    M           pies    hawańczyk   9.865878     08.08.2011\n",
       "1196    Largo    M           pies   lhasa apso   0.316322     22.02.2021\n",
       "1197  Chrupek    M      szynszyla          NaN   3.343246     13.02.2018\n",
       "1198    Mafii    M            kot   maine coon  14.277585     12.03.2007\n",
       "1199    Nicko    M            kot  turecki van  11.371968     05.02.2010\n",
       "\n",
       "[1200 rows x 6 columns]"
      ]
     },
     "execution_count": 29,
     "metadata": {},
     "output_type": "execute_result"
    }
   ],
   "source": [
    "imię_płeć_gatunek_rasa_wiek_data.columns = ['Imię', 'Płeć', 'Gatunek', 'Rasa', 'Wiek', 'Data urodzenia']\n",
    "imię_płeć_gatunek_rasa_wiek_data"
   ]
  },
  {
   "cell_type": "markdown",
   "metadata": {},
   "source": [
    "# Rafciowe zabawy z kodem Karty"
   ]
  },
  {
   "cell_type": "code",
   "execution_count": 30,
   "metadata": {},
   "outputs": [],
   "source": [
    "df = imię_płeć_gatunek_rasa_wiek_data.drop('Wiek', axis=1)\n",
    "\n",
    "df = df.reset_index().rename(columns={'index':'id_zwierzęcia'})"
   ]
  },
  {
   "cell_type": "code",
   "execution_count": 31,
   "metadata": {},
   "outputs": [
    {
     "data": {
      "text/html": [
       "<div>\n",
       "<style scoped>\n",
       "    .dataframe tbody tr th:only-of-type {\n",
       "        vertical-align: middle;\n",
       "    }\n",
       "\n",
       "    .dataframe tbody tr th {\n",
       "        vertical-align: top;\n",
       "    }\n",
       "\n",
       "    .dataframe thead th {\n",
       "        text-align: right;\n",
       "    }\n",
       "</style>\n",
       "<table border=\"1\" class=\"dataframe\">\n",
       "  <thead>\n",
       "    <tr style=\"text-align: right;\">\n",
       "      <th></th>\n",
       "      <th>id_zwierzęcia</th>\n",
       "      <th>Imię</th>\n",
       "      <th>Płeć</th>\n",
       "      <th>Gatunek</th>\n",
       "      <th>Rasa</th>\n",
       "      <th>Data urodzenia</th>\n",
       "    </tr>\n",
       "  </thead>\n",
       "  <tbody>\n",
       "    <tr>\n",
       "      <th>0</th>\n",
       "      <td>0</td>\n",
       "      <td>Lili</td>\n",
       "      <td>K</td>\n",
       "      <td>kot</td>\n",
       "      <td>bobtail</td>\n",
       "      <td>16.03.2017</td>\n",
       "    </tr>\n",
       "    <tr>\n",
       "      <th>1</th>\n",
       "      <td>1</td>\n",
       "      <td>Fifka</td>\n",
       "      <td>K</td>\n",
       "      <td>pies</td>\n",
       "      <td>cavalier</td>\n",
       "      <td>15.03.2018</td>\n",
       "    </tr>\n",
       "    <tr>\n",
       "      <th>2</th>\n",
       "      <td>2</td>\n",
       "      <td>Borówka</td>\n",
       "      <td>K</td>\n",
       "      <td>kot</td>\n",
       "      <td>bengalski</td>\n",
       "      <td>27.05.2019</td>\n",
       "    </tr>\n",
       "    <tr>\n",
       "      <th>3</th>\n",
       "      <td>3</td>\n",
       "      <td>Roxi</td>\n",
       "      <td>K</td>\n",
       "      <td>szczur domowy</td>\n",
       "      <td>NaN</td>\n",
       "      <td>20.04.2019</td>\n",
       "    </tr>\n",
       "    <tr>\n",
       "      <th>4</th>\n",
       "      <td>4</td>\n",
       "      <td>Dżasti</td>\n",
       "      <td>K</td>\n",
       "      <td>szczur domowy</td>\n",
       "      <td>NaN</td>\n",
       "      <td>01.03.2021</td>\n",
       "    </tr>\n",
       "    <tr>\n",
       "      <th>...</th>\n",
       "      <td>...</td>\n",
       "      <td>...</td>\n",
       "      <td>...</td>\n",
       "      <td>...</td>\n",
       "      <td>...</td>\n",
       "      <td>...</td>\n",
       "    </tr>\n",
       "    <tr>\n",
       "      <th>1195</th>\n",
       "      <td>1195</td>\n",
       "      <td>Bajer</td>\n",
       "      <td>M</td>\n",
       "      <td>pies</td>\n",
       "      <td>hawańczyk</td>\n",
       "      <td>08.08.2011</td>\n",
       "    </tr>\n",
       "    <tr>\n",
       "      <th>1196</th>\n",
       "      <td>1196</td>\n",
       "      <td>Largo</td>\n",
       "      <td>M</td>\n",
       "      <td>pies</td>\n",
       "      <td>lhasa apso</td>\n",
       "      <td>22.02.2021</td>\n",
       "    </tr>\n",
       "    <tr>\n",
       "      <th>1197</th>\n",
       "      <td>1197</td>\n",
       "      <td>Chrupek</td>\n",
       "      <td>M</td>\n",
       "      <td>szynszyla</td>\n",
       "      <td>NaN</td>\n",
       "      <td>13.02.2018</td>\n",
       "    </tr>\n",
       "    <tr>\n",
       "      <th>1198</th>\n",
       "      <td>1198</td>\n",
       "      <td>Mafii</td>\n",
       "      <td>M</td>\n",
       "      <td>kot</td>\n",
       "      <td>maine coon</td>\n",
       "      <td>12.03.2007</td>\n",
       "    </tr>\n",
       "    <tr>\n",
       "      <th>1199</th>\n",
       "      <td>1199</td>\n",
       "      <td>Nicko</td>\n",
       "      <td>M</td>\n",
       "      <td>kot</td>\n",
       "      <td>turecki van</td>\n",
       "      <td>05.02.2010</td>\n",
       "    </tr>\n",
       "  </tbody>\n",
       "</table>\n",
       "<p>1200 rows × 6 columns</p>\n",
       "</div>"
      ],
      "text/plain": [
       "      id_zwierzęcia     Imię Płeć        Gatunek         Rasa Data urodzenia\n",
       "0                 0     Lili    K            kot      bobtail     16.03.2017\n",
       "1                 1    Fifka    K           pies     cavalier     15.03.2018\n",
       "2                 2  Borówka    K            kot    bengalski     27.05.2019\n",
       "3                 3     Roxi    K  szczur domowy          NaN     20.04.2019\n",
       "4                 4   Dżasti    K  szczur domowy          NaN     01.03.2021\n",
       "...             ...      ...  ...            ...          ...            ...\n",
       "1195           1195    Bajer    M           pies    hawańczyk     08.08.2011\n",
       "1196           1196    Largo    M           pies   lhasa apso     22.02.2021\n",
       "1197           1197  Chrupek    M      szynszyla          NaN     13.02.2018\n",
       "1198           1198    Mafii    M            kot   maine coon     12.03.2007\n",
       "1199           1199    Nicko    M            kot  turecki van     05.02.2010\n",
       "\n",
       "[1200 rows x 6 columns]"
      ]
     },
     "execution_count": 31,
     "metadata": {},
     "output_type": "execute_result"
    }
   ],
   "source": [
    "df "
   ]
  },
  {
   "cell_type": "code",
   "execution_count": 32,
   "metadata": {},
   "outputs": [],
   "source": [
    "wlasciciele = pd.read_csv('dane do tabeli/właściciele.csv', index_col='Unnamed: 0')"
   ]
  },
  {
   "cell_type": "code",
   "execution_count": 33,
   "metadata": {},
   "outputs": [],
   "source": [
    "df['id_właściciela'] = np.nan\n",
    "n_wlascicieli = len(wlasciciele)\n",
    "n_zwierzakow = len(df)\n",
    "\n",
    "df.iloc[:n_wlascicieli, -1] = wlasciciele['id_właściciela'].sample(n_wlascicieli).values\n",
    "df.iloc[n_wlascicieli:, -1] = wlasciciele['id_właściciela'].sample(n_zwierzakow - n_wlascicieli, replace=True).values\n",
    "df['id_właściciela'] = df['id_właściciela'].astype(int)"
   ]
  },
  {
   "cell_type": "code",
   "execution_count": 34,
   "metadata": {},
   "outputs": [],
   "source": [
    "df['Data urodzenia'] = pd.to_datetime(df['Data urodzenia'], format='%d.%m.%Y')"
   ]
  },
  {
   "cell_type": "markdown",
   "metadata": {},
   "source": [
    "Data rejestracji jest zawarta do 5 czerwca 2021. Zakłądamy, że później nie było rejestracji."
   ]
  },
  {
   "cell_type": "code",
   "execution_count": 35,
   "metadata": {},
   "outputs": [],
   "source": [
    "t_min = pd.to_datetime('05.10.2019', format='%d.%m.%Y')\n",
    "t_max = pd.to_datetime('05.06.2021', format='%d.%m.%Y')"
   ]
  },
  {
   "cell_type": "code",
   "execution_count": 36,
   "metadata": {},
   "outputs": [],
   "source": [
    "def odpowiedni_moment_t_0(t_min, data_urodzenia):\n",
    "    if min([t_min, data_urodzenia]) == t_min:\n",
    "        return data_urodzenia\n",
    "    else:\n",
    "        return t_min"
   ]
  },
  {
   "cell_type": "code",
   "execution_count": 37,
   "metadata": {},
   "outputs": [],
   "source": [
    "df['Data rejestracji'] = df['Data urodzenia'].agg(lambda x: np.random.choice(pd.date_range(odpowiedni_moment_t_0(t_min, x), t_max)))"
   ]
  },
  {
   "cell_type": "code",
   "execution_count": 38,
   "metadata": {},
   "outputs": [
    {
     "data": {
      "text/html": [
       "<div>\n",
       "<style scoped>\n",
       "    .dataframe tbody tr th:only-of-type {\n",
       "        vertical-align: middle;\n",
       "    }\n",
       "\n",
       "    .dataframe tbody tr th {\n",
       "        vertical-align: top;\n",
       "    }\n",
       "\n",
       "    .dataframe thead th {\n",
       "        text-align: right;\n",
       "    }\n",
       "</style>\n",
       "<table border=\"1\" class=\"dataframe\">\n",
       "  <thead>\n",
       "    <tr style=\"text-align: right;\">\n",
       "      <th></th>\n",
       "      <th>id_zwierzęcia</th>\n",
       "      <th>Imię</th>\n",
       "      <th>Płeć</th>\n",
       "      <th>Gatunek</th>\n",
       "      <th>Rasa</th>\n",
       "      <th>Data urodzenia</th>\n",
       "      <th>id_właściciela</th>\n",
       "      <th>Data rejestracji</th>\n",
       "    </tr>\n",
       "  </thead>\n",
       "  <tbody>\n",
       "    <tr>\n",
       "      <th>0</th>\n",
       "      <td>0</td>\n",
       "      <td>Lili</td>\n",
       "      <td>K</td>\n",
       "      <td>kot</td>\n",
       "      <td>bobtail</td>\n",
       "      <td>2017-03-16</td>\n",
       "      <td>302</td>\n",
       "      <td>2020-08-28</td>\n",
       "    </tr>\n",
       "    <tr>\n",
       "      <th>1</th>\n",
       "      <td>1</td>\n",
       "      <td>Fifka</td>\n",
       "      <td>K</td>\n",
       "      <td>pies</td>\n",
       "      <td>cavalier</td>\n",
       "      <td>2018-03-15</td>\n",
       "      <td>785</td>\n",
       "      <td>2020-10-10</td>\n",
       "    </tr>\n",
       "    <tr>\n",
       "      <th>2</th>\n",
       "      <td>2</td>\n",
       "      <td>Borówka</td>\n",
       "      <td>K</td>\n",
       "      <td>kot</td>\n",
       "      <td>bengalski</td>\n",
       "      <td>2019-05-27</td>\n",
       "      <td>103</td>\n",
       "      <td>2021-01-06</td>\n",
       "    </tr>\n",
       "    <tr>\n",
       "      <th>3</th>\n",
       "      <td>3</td>\n",
       "      <td>Roxi</td>\n",
       "      <td>K</td>\n",
       "      <td>szczur domowy</td>\n",
       "      <td>NaN</td>\n",
       "      <td>2019-04-20</td>\n",
       "      <td>978</td>\n",
       "      <td>2020-02-14</td>\n",
       "    </tr>\n",
       "    <tr>\n",
       "      <th>4</th>\n",
       "      <td>4</td>\n",
       "      <td>Dżasti</td>\n",
       "      <td>K</td>\n",
       "      <td>szczur domowy</td>\n",
       "      <td>NaN</td>\n",
       "      <td>2021-03-01</td>\n",
       "      <td>916</td>\n",
       "      <td>2021-05-06</td>\n",
       "    </tr>\n",
       "    <tr>\n",
       "      <th>...</th>\n",
       "      <td>...</td>\n",
       "      <td>...</td>\n",
       "      <td>...</td>\n",
       "      <td>...</td>\n",
       "      <td>...</td>\n",
       "      <td>...</td>\n",
       "      <td>...</td>\n",
       "      <td>...</td>\n",
       "    </tr>\n",
       "    <tr>\n",
       "      <th>1195</th>\n",
       "      <td>1195</td>\n",
       "      <td>Bajer</td>\n",
       "      <td>M</td>\n",
       "      <td>pies</td>\n",
       "      <td>hawańczyk</td>\n",
       "      <td>2011-08-08</td>\n",
       "      <td>496</td>\n",
       "      <td>2020-01-18</td>\n",
       "    </tr>\n",
       "    <tr>\n",
       "      <th>1196</th>\n",
       "      <td>1196</td>\n",
       "      <td>Largo</td>\n",
       "      <td>M</td>\n",
       "      <td>pies</td>\n",
       "      <td>lhasa apso</td>\n",
       "      <td>2021-02-22</td>\n",
       "      <td>402</td>\n",
       "      <td>2021-05-09</td>\n",
       "    </tr>\n",
       "    <tr>\n",
       "      <th>1197</th>\n",
       "      <td>1197</td>\n",
       "      <td>Chrupek</td>\n",
       "      <td>M</td>\n",
       "      <td>szynszyla</td>\n",
       "      <td>NaN</td>\n",
       "      <td>2018-02-13</td>\n",
       "      <td>322</td>\n",
       "      <td>2021-04-07</td>\n",
       "    </tr>\n",
       "    <tr>\n",
       "      <th>1198</th>\n",
       "      <td>1198</td>\n",
       "      <td>Mafii</td>\n",
       "      <td>M</td>\n",
       "      <td>kot</td>\n",
       "      <td>maine coon</td>\n",
       "      <td>2007-03-12</td>\n",
       "      <td>209</td>\n",
       "      <td>2021-01-22</td>\n",
       "    </tr>\n",
       "    <tr>\n",
       "      <th>1199</th>\n",
       "      <td>1199</td>\n",
       "      <td>Nicko</td>\n",
       "      <td>M</td>\n",
       "      <td>kot</td>\n",
       "      <td>turecki van</td>\n",
       "      <td>2010-02-05</td>\n",
       "      <td>614</td>\n",
       "      <td>2020-07-05</td>\n",
       "    </tr>\n",
       "  </tbody>\n",
       "</table>\n",
       "<p>1200 rows × 8 columns</p>\n",
       "</div>"
      ],
      "text/plain": [
       "      id_zwierzęcia     Imię Płeć        Gatunek         Rasa Data urodzenia  \\\n",
       "0                 0     Lili    K            kot      bobtail     2017-03-16   \n",
       "1                 1    Fifka    K           pies     cavalier     2018-03-15   \n",
       "2                 2  Borówka    K            kot    bengalski     2019-05-27   \n",
       "3                 3     Roxi    K  szczur domowy          NaN     2019-04-20   \n",
       "4                 4   Dżasti    K  szczur domowy          NaN     2021-03-01   \n",
       "...             ...      ...  ...            ...          ...            ...   \n",
       "1195           1195    Bajer    M           pies    hawańczyk     2011-08-08   \n",
       "1196           1196    Largo    M           pies   lhasa apso     2021-02-22   \n",
       "1197           1197  Chrupek    M      szynszyla          NaN     2018-02-13   \n",
       "1198           1198    Mafii    M            kot   maine coon     2007-03-12   \n",
       "1199           1199    Nicko    M            kot  turecki van     2010-02-05   \n",
       "\n",
       "      id_właściciela Data rejestracji  \n",
       "0                302       2020-08-28  \n",
       "1                785       2020-10-10  \n",
       "2                103       2021-01-06  \n",
       "3                978       2020-02-14  \n",
       "4                916       2021-05-06  \n",
       "...              ...              ...  \n",
       "1195             496       2020-01-18  \n",
       "1196             402       2021-05-09  \n",
       "1197             322       2021-04-07  \n",
       "1198             209       2021-01-22  \n",
       "1199             614       2020-07-05  \n",
       "\n",
       "[1200 rows x 8 columns]"
      ]
     },
     "execution_count": 38,
     "metadata": {},
     "output_type": "execute_result"
    }
   ],
   "source": [
    "df"
   ]
  },
  {
   "cell_type": "code",
   "execution_count": 39,
   "metadata": {
    "executionInfo": {
     "elapsed": 2,
     "status": "ok",
     "timestamp": 1624179818685,
     "user": {
      "displayName": "Rafał Sokołowski",
      "photoUrl": "",
      "userId": "01451606405973523983"
     },
     "user_tz": -120
    },
    "id": "MooSzqjgpRhv"
   },
   "outputs": [],
   "source": [
    "df = df[['id_zwierzęcia', 'id_właściciela', 'Imię', 'Data urodzenia', 'Data rejestracji',\n",
    "    'Gatunek', 'Rasa', 'Płeć']]"
   ]
  },
  {
   "cell_type": "code",
   "execution_count": 40,
   "metadata": {},
   "outputs": [],
   "source": [
    "df.to_csv('zwierzeta.csv')"
   ]
  }
 ],
 "metadata": {
  "colab": {
   "name": "Zwierzęta.ipynb",
   "provenance": []
  },
  "kernelspec": {
   "display_name": "Python 3",
   "language": "python",
   "name": "python3"
  },
  "language_info": {
   "codemirror_mode": {
    "name": "ipython",
    "version": 3
   },
   "file_extension": ".py",
   "mimetype": "text/x-python",
   "name": "python",
   "nbconvert_exporter": "python",
   "pygments_lexer": "ipython3",
   "version": "3.8.8"
  },
  "toc": {
   "base_numbering": 1,
   "nav_menu": {},
   "number_sections": true,
   "sideBar": true,
   "skip_h1_title": false,
   "title_cell": "Table of Contents",
   "title_sidebar": "Contents",
   "toc_cell": false,
   "toc_position": {},
   "toc_section_display": true,
   "toc_window_display": false
  },
  "varInspector": {
   "cols": {
    "lenName": 16,
    "lenType": 16,
    "lenVar": 40
   },
   "kernels_config": {
    "python": {
     "delete_cmd_postfix": "",
     "delete_cmd_prefix": "del ",
     "library": "var_list.py",
     "varRefreshCmd": "print(var_dic_list())"
    },
    "r": {
     "delete_cmd_postfix": ") ",
     "delete_cmd_prefix": "rm(",
     "library": "var_list.r",
     "varRefreshCmd": "cat(var_dic_list()) "
    }
   },
   "types_to_exclude": [
    "module",
    "function",
    "builtin_function_or_method",
    "instance",
    "_Feature"
   ],
   "window_display": false
  }
 },
 "nbformat": 4,
 "nbformat_minor": 1
}
