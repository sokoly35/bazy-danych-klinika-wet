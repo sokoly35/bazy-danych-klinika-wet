{
 "cells": [
  {
   "cell_type": "code",
   "execution_count": null,
   "metadata": {
    "id": "LGDOMATBrVw_"
   },
   "outputs": [],
   "source": [
    "import pandas as pd"
   ]
  },
  {
   "cell_type": "markdown",
   "metadata": {},
   "source": [
    "Numery PESEL zostały zanimizowane :)"
   ]
  },
  {
   "cell_type": "code",
   "execution_count": null,
   "metadata": {
    "colab": {
     "base_uri": "https://localhost:8080/",
     "height": 204
    },
    "id": "9ZJVrVHXrVxF",
    "outputId": "70aa977f-6870-4afc-c03d-0739d9d82ab9"
   },
   "outputs": [
    {
     "data": {
      "text/html": [
       "<div>\n",
       "<style scoped>\n",
       "    .dataframe tbody tr th:only-of-type {\n",
       "        vertical-align: middle;\n",
       "    }\n",
       "\n",
       "    .dataframe tbody tr th {\n",
       "        vertical-align: top;\n",
       "    }\n",
       "\n",
       "    .dataframe thead th {\n",
       "        text-align: right;\n",
       "    }\n",
       "</style>\n",
       "<table border=\"1\" class=\"dataframe\">\n",
       "  <thead>\n",
       "    <tr style=\"text-align: right;\">\n",
       "      <th></th>\n",
       "      <th>id_pracownika</th>\n",
       "      <th>Imię</th>\n",
       "      <th>Nazwisko</th>\n",
       "      <th>PESEL</th>\n",
       "      <th>Telefon</th>\n",
       "      <th>Email</th>\n",
       "      <th>Data zatrudnienia</th>\n",
       "      <th>Specjalizacja</th>\n",
       "    </tr>\n",
       "  </thead>\n",
       "  <tbody>\n",
       "    <tr>\n",
       "      <th>0</th>\n",
       "      <td>3</td>\n",
       "      <td>Sarek</td>\n",
       "      <td>Marupski</td>\n",
       "      <td>99021411311</td>\n",
       "      <td>123-456-789</td>\n",
       "      <td>sarek.marupski@aport.pl</td>\n",
       "      <td>05-10-2019</td>\n",
       "      <td>Chirurg</td>\n",
       "    </tr>\n",
       "    <tr>\n",
       "      <th>1</th>\n",
       "      <td>4</td>\n",
       "      <td>Jarta</td>\n",
       "      <td>Maworska</td>\n",
       "      <td>99020121345</td>\n",
       "      <td>885-663-339</td>\n",
       "      <td>jarta.maworska@aport.pl</td>\n",
       "      <td>05-10-2019</td>\n",
       "      <td>Pielęgniarka</td>\n",
       "    </tr>\n",
       "    <tr>\n",
       "      <th>2</th>\n",
       "      <td>5</td>\n",
       "      <td>Karta</td>\n",
       "      <td>Mroczak</td>\n",
       "      <td>99091222189</td>\n",
       "      <td>785-990-912</td>\n",
       "      <td>karta.mroczak@aport.pl</td>\n",
       "      <td>05-10-2019</td>\n",
       "      <td>Pielęgniarka</td>\n",
       "    </tr>\n",
       "    <tr>\n",
       "      <th>3</th>\n",
       "      <td>1</td>\n",
       "      <td>Kagata</td>\n",
       "      <td>Awerska</td>\n",
       "      <td>99043098383</td>\n",
       "      <td>712-129-643</td>\n",
       "      <td>kagata.awerska@aport.pl</td>\n",
       "      <td>05-10-2019</td>\n",
       "      <td>Lekarz</td>\n",
       "    </tr>\n",
       "    <tr>\n",
       "      <th>4</th>\n",
       "      <td>2</td>\n",
       "      <td>Safał</td>\n",
       "      <td>Rokołowski</td>\n",
       "      <td>99122459672</td>\n",
       "      <td>798-395-424</td>\n",
       "      <td>safał.rokołowski@aport.pl</td>\n",
       "      <td>05-10-2019</td>\n",
       "      <td>Lekarz</td>\n",
       "    </tr>\n",
       "  </tbody>\n",
       "</table>\n",
       "</div>"
      ],
      "text/plain": [
       "   id_pracownika    Imię    Nazwisko        PESEL      Telefon  \\\n",
       "0              3   Sarek    Marupski  99021411311  123-456-789   \n",
       "1              4   Jarta    Maworska  99020121345  885-663-339   \n",
       "2              5   Karta     Mroczak  99091222189  785-990-912   \n",
       "3              1  Kagata     Awerska  99043098383  712-129-643   \n",
       "4              2   Safał  Rokołowski  99122459672  798-395-424   \n",
       "\n",
       "                       Email Data zatrudnienia Specjalizacja  \n",
       "0    sarek.marupski@aport.pl        05-10-2019       Chirurg  \n",
       "1    jarta.maworska@aport.pl        05-10-2019  Pielęgniarka  \n",
       "2     karta.mroczak@aport.pl        05-10-2019  Pielęgniarka  \n",
       "3    kagata.awerska@aport.pl        05-10-2019        Lekarz  \n",
       "4  safał.rokołowski@aport.pl        05-10-2019        Lekarz  "
      ]
     },
     "execution_count": 5,
     "metadata": {
      "tags": []
     },
     "output_type": "execute_result"
    }
   ],
   "source": [
    "data = {'id_pracownika' : [3, 4, 5, 1, 2],\n",
    "        'Imię': ['Sarek', 'Jarta', 'Karta', 'Kagata', 'Safał'],\n",
    "       'Nazwisko': ['Marupski', 'Maworska', 'Mroczak', 'Awerska', 'Rokołowski'],\n",
    "        'PESEL': ['99021411311', '99020121345', '99091222189', '99043098383', '99122459672'],\n",
    "        'Telefon': ['123-456-789', '885-663-339', '785-990-912', '712-129-643', '798-395-424'],\n",
    "        'Email': ['sarek.marupski@aport.pl', 'jarta.maworska@aport.pl', 'karta.mroczak@aport.pl',\n",
    "                   'kagata.awerska@aport.pl', 'safał.rokołowski@aport.pl'],\n",
    "        'Data zatrudnienia': ['05-10-2019', '05-10-2019', '05-10-2019', '05-10-2019', '05-10-2019'],\n",
    "        'Specjalizacja': ['Chirurg', 'Pielęgniarka', 'Pielęgniarka', 'Lekarz', 'Lekarz']\n",
    "       }\n",
    "\n",
    "pracownicy = pd.DataFrame(data)\n",
    "pracownicy"
   ]
  },
  {
   "cell_type": "code",
   "execution_count": null,
   "metadata": {
    "id": "pqsAnRyZrbsg"
   },
   "outputs": [],
   "source": [
    "pracownicy.to_csv('pracownicy.csv')"
   ]
  }
 ],
 "metadata": {
  "colab": {
   "collapsed_sections": [],
   "name": "Pracownicy.ipynb",
   "provenance": []
  },
  "kernelspec": {
   "display_name": "Python 3",
   "language": "python",
   "name": "python3"
  },
  "language_info": {
   "codemirror_mode": {
    "name": "ipython",
    "version": 3
   },
   "file_extension": ".py",
   "mimetype": "text/x-python",
   "name": "python",
   "nbconvert_exporter": "python",
   "pygments_lexer": "ipython3",
   "version": "3.8.8"
  },
  "toc": {
   "base_numbering": 1,
   "nav_menu": {},
   "number_sections": true,
   "sideBar": true,
   "skip_h1_title": false,
   "title_cell": "Table of Contents",
   "title_sidebar": "Contents",
   "toc_cell": false,
   "toc_position": {},
   "toc_section_display": true,
   "toc_window_display": false
  }
 },
 "nbformat": 4,
 "nbformat_minor": 1
}
