{
 "cells": [
  {
   "cell_type": "code",
   "execution_count": 1,
   "metadata": {},
   "outputs": [],
   "source": [
    "from sqlalchemy import create_engine\n",
    "import sqlalchemy\n",
    "import pandas as pd\n",
    "from sqlalchemy import inspect\n",
    "from dotenv import load_dotenv\n",
    "import os\n",
    "import sys\n",
    "\n",
    "sys.path.insert(0,'..')"
   ]
  },
  {
   "cell_type": "code",
   "execution_count": 2,
   "metadata": {},
   "outputs": [],
   "source": [
    "dotenv_path = os.path.join('..', '.env')\n",
    "load_dotenv(dotenv_path)\n",
    "\n",
    "SQL_CONNECTOR = os.getenv('SQL_CONNECTOR')"
   ]
  },
  {
   "cell_type": "code",
   "execution_count": 4,
   "metadata": {},
   "outputs": [
    {
     "data": {
      "text/plain": [
       "'mysql+mysqldb://team20:te@mZoP@ss@giniewicz.it:3306/team20?charset=utf8'"
      ]
     },
     "execution_count": 4,
     "metadata": {},
     "output_type": "execute_result"
    }
   ],
   "source": [
    "SQL_CONNECTOR"
   ]
  },
  {
   "cell_type": "code",
   "execution_count": 22,
   "metadata": {},
   "outputs": [
    {
     "data": {
      "text/plain": [
       "['information_schema', 'team20']"
      ]
     },
     "execution_count": 22,
     "metadata": {},
     "output_type": "execute_result"
    }
   ],
   "source": [
    "engine = create_engine(SQL_CONNECTOR, encoding='utf8')\n",
    "insp = inspect(engine)\n",
    "insp.get_schema_names()"
   ]
  },
  {
   "cell_type": "code",
   "execution_count": 3,
   "metadata": {},
   "outputs": [],
   "source": [
    "tables = insp.get_table_names()"
   ]
  },
  {
   "cell_type": "code",
   "execution_count": 23,
   "metadata": {},
   "outputs": [],
   "source": [
    "pracownicy = pd.read_csv('INSERT/pracownicy.csv', index_col='Unnamed: 0', encoding='utf8', parse_dates=['Data zatrudnienia'])\n",
    "pracownicy['Data zatrudnienia'] = pd.to_datetime(pracownicy['Data zatrudnienia'], format='%d-%m-%Y')\n",
    "sprzęt = pd.read_csv('INSERT/sprzęt.csv')\n",
    "wizyty = pd.read_csv('INSERT/wizyty.csv', index_col='Unnamed: 0', parse_dates=['Data'])\n",
    "wlasciciele = pd.read_csv('INSERT/właściciele.csv', index_col='Unnamed: 0', dtype={'PESEL':str})\n",
    "zwierzeta = pd.read_csv('INSERT/zwierzeta.csv', index_col='Unnamed: 0', parse_dates=['Data rejestracji', 'Data urodzenia'])\n",
    "transakcje = pd.read_csv('INSERT/transakcje.csv', parse_dates=['Data'])"
   ]
  },
  {
   "cell_type": "code",
   "execution_count": 50,
   "metadata": {},
   "outputs": [],
   "source": [
    "transakcje.loc[~transakcje['id_wizyty jeśli wizyta'].isna(), 'id_wizyty jeśli wizyta'] = transakcje.loc[~transakcje['id_wizyty jeśli wizyta'].isna(), 'id_wizyty jeśli wizyta'].astype(int)\n",
    "transakcje.columns = ['id_transakcji', 'Data', 'Rodzaj transakcji', 'Kwota',\n",
    "       'id_wizyty jeśli wizyta']"
   ]
  },
  {
   "cell_type": "code",
   "execution_count": 5,
   "metadata": {},
   "outputs": [],
   "source": [
    "pracownicy.to_sql('Pracownicy', con=engine, if_exists='replace', index=False)"
   ]
  },
  {
   "cell_type": "code",
   "execution_count": 6,
   "metadata": {},
   "outputs": [],
   "source": [
    "wizyty.columns = ['id_wizyty', 'Data', 'Godzina', 'id_pracownika', 'Czas trwania wizyty',\n",
    "       'Rodzaj wizyty', 'id_zwierzęcia']"
   ]
  },
  {
   "cell_type": "code",
   "execution_count": 7,
   "metadata": {},
   "outputs": [],
   "source": [
    "wizyty['Godzina'] = pd.to_datetime(wizyty['Godzina'], format='%H:%M:%S').dt.time\n",
    "wizyty['Czas trwania wizyty'] = pd.to_datetime(wizyty['Czas trwania wizyty'], format='%H:%M').dt.time"
   ]
  },
  {
   "cell_type": "code",
   "execution_count": 24,
   "metadata": {},
   "outputs": [],
   "source": [
    "wizyty['id_wizyty'] = wizyty['id_wizyty']  + 1\n",
    "\n",
    "wlasciciele['id_właściciela'] = wlasciciele['id_właściciela'] + 1\n",
    "\n",
    "zwierzeta['id_zwierzęcia'] = zwierzeta['id_zwierzęcia'] + 1"
   ]
  },
  {
   "cell_type": "code",
   "execution_count": 169,
   "metadata": {},
   "outputs": [],
   "source": [
    "wizyty.to_sql('Wizyty', con=engine, if_exists='append', index=False)"
   ]
  },
  {
   "cell_type": "code",
   "execution_count": 26,
   "metadata": {},
   "outputs": [],
   "source": [
    "wlasciciele.to_sql('Właściciele', con=engine, if_exists='append', index=False)"
   ]
  },
  {
   "cell_type": "code",
   "execution_count": 9,
   "metadata": {},
   "outputs": [],
   "source": [
    "zwierzeta.to_sql('Zwierzęta', con=engine, if_exists='append', index=False)"
   ]
  },
  {
   "cell_type": "code",
   "execution_count": 7,
   "metadata": {},
   "outputs": [],
   "source": [
    "sprzęt['Wartość'] = sprzęt['Wartość'].replace(r'\\xa0', '', regex=True)\n",
    "sprzęt['Wartość'] = sprzęt['Wartość'].astype(int)"
   ]
  },
  {
   "cell_type": "code",
   "execution_count": 11,
   "metadata": {},
   "outputs": [],
   "source": [
    "sprzęt.to_sql('Sprzęt', con=engine, if_exists='append', index=False)"
   ]
  },
  {
   "cell_type": "code",
   "execution_count": 52,
   "metadata": {},
   "outputs": [],
   "source": [
    "transakcje.to_sql('Transakcje', con=engine, if_exists='append', index=False)"
   ]
  }
 ],
 "metadata": {
  "kernelspec": {
   "display_name": "Python 3",
   "language": "python",
   "name": "python3"
  },
  "language_info": {
   "codemirror_mode": {
    "name": "ipython",
    "version": 3
   },
   "file_extension": ".py",
   "mimetype": "text/x-python",
   "name": "python",
   "nbconvert_exporter": "python",
   "pygments_lexer": "ipython3",
   "version": "3.8.8"
  },
  "toc": {
   "base_numbering": 1,
   "nav_menu": {},
   "number_sections": true,
   "sideBar": true,
   "skip_h1_title": false,
   "title_cell": "Table of Contents",
   "title_sidebar": "Contents",
   "toc_cell": false,
   "toc_position": {},
   "toc_section_display": true,
   "toc_window_display": false
  },
  "varInspector": {
   "cols": {
    "lenName": 16,
    "lenType": 16,
    "lenVar": 40
   },
   "kernels_config": {
    "python": {
     "delete_cmd_postfix": "",
     "delete_cmd_prefix": "del ",
     "library": "var_list.py",
     "varRefreshCmd": "print(var_dic_list())"
    },
    "r": {
     "delete_cmd_postfix": ") ",
     "delete_cmd_prefix": "rm(",
     "library": "var_list.r",
     "varRefreshCmd": "cat(var_dic_list()) "
    }
   },
   "types_to_exclude": [
    "module",
    "function",
    "builtin_function_or_method",
    "instance",
    "_Feature"
   ],
   "window_display": false
  }
 },
 "nbformat": 4,
 "nbformat_minor": 2
}
